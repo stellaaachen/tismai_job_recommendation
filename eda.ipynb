{
  "cells": [
    {
      "cell_type": "code",
      "execution_count": 1,
      "metadata": {
        "id": "nbaPMhtcUzq_"
      },
      "outputs": [],
      "source": [
        "#!pip install kagglehub\n",
        "#!pip install optuna"
      ]
    },
    {
      "cell_type": "code",
      "execution_count": 2,
      "metadata": {
        "colab": {
          "base_uri": "https://localhost:8080/"
        },
        "id": "SjTeigH7VNbC",
        "outputId": "04d39259-b2aa-4680-eaa7-b79af16b87ec"
      },
      "outputs": [
        {
          "name": "stdout",
          "output_type": "stream",
          "text": [
            "Path to dataset files: /Users/stellachen/.cache/kagglehub/datasets/arshkon/linkedin-job-postings/versions/13\n"
          ]
        }
      ],
      "source": [
        "import kagglehub\n",
        "\n",
        "path = kagglehub.dataset_download(\"arshkon/linkedin-job-postings\")\n",
        "\n",
        "print(\"Path to dataset files:\", path)"
      ]
    },
    {
      "cell_type": "code",
      "execution_count": 3,
      "metadata": {
        "colab": {
          "base_uri": "https://localhost:8080/"
        },
        "id": "Z_kjuEO3Vd0g",
        "outputId": "acc159ac-be33-48fe-aa58-4824161b4282"
      },
      "outputs": [
        {
          "name": "stderr",
          "output_type": "stream",
          "text": [
            "[nltk_data] Downloading package punkt_tab to\n",
            "[nltk_data]     /Users/stellachen/nltk_data...\n",
            "[nltk_data]   Package punkt_tab is already up-to-date!\n"
          ]
        }
      ],
      "source": [
        "import pandas as pd\n",
        "import numpy as np\n",
        "import time\n",
        "\n",
        "from sklearn.feature_extraction.text import CountVectorizer, TfidfVectorizer # Create TD / TF-IDF Matricies\n",
        "from sklearn.model_selection import train_test_split, cross_val_score\n",
        "from sklearn.preprocessing import MinMaxScaler\n",
        "from sklearn.linear_model import LogisticRegression # Preform Logistic Regression\n",
        "from sklearn.metrics import confusion_matrix # Make the Confustion Matrix\n",
        "from sklearn.metrics import roc_auc_score, roc_curve, accuracy_score # for AUC, fpr, tpr, threshold and accuracy\n",
        "from sklearn.metrics import precision_recall_fscore_support\n",
        "from sklearn.naive_bayes import MultinomialNB\n",
        "from sklearn.ensemble import RandomForestClassifier, GradientBoostingClassifier\n",
        "from sklearn.neighbors import KNeighborsClassifier\n",
        "\n",
        "from nltk.corpus import stopwords # for the Stopwords list\n",
        "from nltk.stem import PorterStemmer # for the porter Stemmer\n",
        "import nltk # for other nltk functions\n",
        "import re # for regular expression functions\n",
        "nltk.download('punkt_tab')\n",
        "\n",
        "from tqdm import tqdm  # for progress bar\n",
        "import matplotlib.pyplot as plt\n",
        "import seaborn as sns\n",
        "import optuna"
      ]
    },
    {
      "cell_type": "code",
      "execution_count": 4,
      "metadata": {
        "colab": {
          "base_uri": "https://localhost:8080/",
          "height": 568
        },
        "id": "KwMp0qt7VYep",
        "outputId": "cb3c2154-7ab6-45d1-a8bb-433d633fc362"
      },
      "outputs": [
        {
          "data": {
            "text/html": [
              "<div>\n",
              "<style scoped>\n",
              "    .dataframe tbody tr th:only-of-type {\n",
              "        vertical-align: middle;\n",
              "    }\n",
              "\n",
              "    .dataframe tbody tr th {\n",
              "        vertical-align: top;\n",
              "    }\n",
              "\n",
              "    .dataframe thead th {\n",
              "        text-align: right;\n",
              "    }\n",
              "</style>\n",
              "<table border=\"1\" class=\"dataframe\">\n",
              "  <thead>\n",
              "    <tr style=\"text-align: right;\">\n",
              "      <th></th>\n",
              "      <th>job_id</th>\n",
              "      <th>company_name</th>\n",
              "      <th>title</th>\n",
              "      <th>description</th>\n",
              "      <th>max_salary</th>\n",
              "      <th>pay_period</th>\n",
              "      <th>location</th>\n",
              "      <th>company_id</th>\n",
              "      <th>views</th>\n",
              "      <th>med_salary</th>\n",
              "      <th>...</th>\n",
              "      <th>skills_desc</th>\n",
              "      <th>listed_time</th>\n",
              "      <th>posting_domain</th>\n",
              "      <th>sponsored</th>\n",
              "      <th>work_type</th>\n",
              "      <th>currency</th>\n",
              "      <th>compensation_type</th>\n",
              "      <th>normalized_salary</th>\n",
              "      <th>zip_code</th>\n",
              "      <th>fips</th>\n",
              "    </tr>\n",
              "  </thead>\n",
              "  <tbody>\n",
              "    <tr>\n",
              "      <th>0</th>\n",
              "      <td>921716</td>\n",
              "      <td>Corcoran Sawyer Smith</td>\n",
              "      <td>Marketing Coordinator</td>\n",
              "      <td>Job descriptionA leading real estate firm in N...</td>\n",
              "      <td>20.0</td>\n",
              "      <td>HOURLY</td>\n",
              "      <td>Princeton, NJ</td>\n",
              "      <td>2774458.0</td>\n",
              "      <td>20.0</td>\n",
              "      <td>NaN</td>\n",
              "      <td>...</td>\n",
              "      <td>Requirements: \\n\\nWe are seeking a College or ...</td>\n",
              "      <td>1.713398e+12</td>\n",
              "      <td>NaN</td>\n",
              "      <td>0</td>\n",
              "      <td>FULL_TIME</td>\n",
              "      <td>USD</td>\n",
              "      <td>BASE_SALARY</td>\n",
              "      <td>38480.0</td>\n",
              "      <td>8540.0</td>\n",
              "      <td>34021.0</td>\n",
              "    </tr>\n",
              "    <tr>\n",
              "      <th>1</th>\n",
              "      <td>1829192</td>\n",
              "      <td>NaN</td>\n",
              "      <td>Mental Health Therapist/Counselor</td>\n",
              "      <td>At Aspen Therapy and Wellness , we are committ...</td>\n",
              "      <td>50.0</td>\n",
              "      <td>HOURLY</td>\n",
              "      <td>Fort Collins, CO</td>\n",
              "      <td>NaN</td>\n",
              "      <td>1.0</td>\n",
              "      <td>NaN</td>\n",
              "      <td>...</td>\n",
              "      <td>NaN</td>\n",
              "      <td>1.712858e+12</td>\n",
              "      <td>NaN</td>\n",
              "      <td>0</td>\n",
              "      <td>FULL_TIME</td>\n",
              "      <td>USD</td>\n",
              "      <td>BASE_SALARY</td>\n",
              "      <td>83200.0</td>\n",
              "      <td>80521.0</td>\n",
              "      <td>8069.0</td>\n",
              "    </tr>\n",
              "    <tr>\n",
              "      <th>2</th>\n",
              "      <td>10998357</td>\n",
              "      <td>The National Exemplar</td>\n",
              "      <td>Assitant Restaurant Manager</td>\n",
              "      <td>The National Exemplar is accepting application...</td>\n",
              "      <td>65000.0</td>\n",
              "      <td>YEARLY</td>\n",
              "      <td>Cincinnati, OH</td>\n",
              "      <td>64896719.0</td>\n",
              "      <td>8.0</td>\n",
              "      <td>NaN</td>\n",
              "      <td>...</td>\n",
              "      <td>We are currently accepting resumes for FOH - A...</td>\n",
              "      <td>1.713278e+12</td>\n",
              "      <td>NaN</td>\n",
              "      <td>0</td>\n",
              "      <td>FULL_TIME</td>\n",
              "      <td>USD</td>\n",
              "      <td>BASE_SALARY</td>\n",
              "      <td>55000.0</td>\n",
              "      <td>45202.0</td>\n",
              "      <td>39061.0</td>\n",
              "    </tr>\n",
              "    <tr>\n",
              "      <th>3</th>\n",
              "      <td>23221523</td>\n",
              "      <td>Abrams Fensterman, LLP</td>\n",
              "      <td>Senior Elder Law / Trusts and Estates Associat...</td>\n",
              "      <td>Senior Associate Attorney - Elder Law / Trusts...</td>\n",
              "      <td>175000.0</td>\n",
              "      <td>YEARLY</td>\n",
              "      <td>New Hyde Park, NY</td>\n",
              "      <td>766262.0</td>\n",
              "      <td>16.0</td>\n",
              "      <td>NaN</td>\n",
              "      <td>...</td>\n",
              "      <td>This position requires a baseline understandin...</td>\n",
              "      <td>1.712896e+12</td>\n",
              "      <td>NaN</td>\n",
              "      <td>0</td>\n",
              "      <td>FULL_TIME</td>\n",
              "      <td>USD</td>\n",
              "      <td>BASE_SALARY</td>\n",
              "      <td>157500.0</td>\n",
              "      <td>11040.0</td>\n",
              "      <td>36059.0</td>\n",
              "    </tr>\n",
              "    <tr>\n",
              "      <th>4</th>\n",
              "      <td>35982263</td>\n",
              "      <td>NaN</td>\n",
              "      <td>Service Technician</td>\n",
              "      <td>Looking for HVAC service tech with experience ...</td>\n",
              "      <td>80000.0</td>\n",
              "      <td>YEARLY</td>\n",
              "      <td>Burlington, IA</td>\n",
              "      <td>NaN</td>\n",
              "      <td>3.0</td>\n",
              "      <td>NaN</td>\n",
              "      <td>...</td>\n",
              "      <td>NaN</td>\n",
              "      <td>1.713452e+12</td>\n",
              "      <td>NaN</td>\n",
              "      <td>0</td>\n",
              "      <td>FULL_TIME</td>\n",
              "      <td>USD</td>\n",
              "      <td>BASE_SALARY</td>\n",
              "      <td>70000.0</td>\n",
              "      <td>52601.0</td>\n",
              "      <td>19057.0</td>\n",
              "    </tr>\n",
              "  </tbody>\n",
              "</table>\n",
              "<p>5 rows × 31 columns</p>\n",
              "</div>"
            ],
            "text/plain": [
              "     job_id            company_name  \\\n",
              "0    921716   Corcoran Sawyer Smith   \n",
              "1   1829192                     NaN   \n",
              "2  10998357  The National Exemplar    \n",
              "3  23221523  Abrams Fensterman, LLP   \n",
              "4  35982263                     NaN   \n",
              "\n",
              "                                               title  \\\n",
              "0                              Marketing Coordinator   \n",
              "1                  Mental Health Therapist/Counselor   \n",
              "2                        Assitant Restaurant Manager   \n",
              "3  Senior Elder Law / Trusts and Estates Associat...   \n",
              "4                                 Service Technician   \n",
              "\n",
              "                                         description  max_salary pay_period  \\\n",
              "0  Job descriptionA leading real estate firm in N...        20.0     HOURLY   \n",
              "1  At Aspen Therapy and Wellness , we are committ...        50.0     HOURLY   \n",
              "2  The National Exemplar is accepting application...     65000.0     YEARLY   \n",
              "3  Senior Associate Attorney - Elder Law / Trusts...    175000.0     YEARLY   \n",
              "4  Looking for HVAC service tech with experience ...     80000.0     YEARLY   \n",
              "\n",
              "            location  company_id  views  med_salary  ...  \\\n",
              "0      Princeton, NJ   2774458.0   20.0         NaN  ...   \n",
              "1   Fort Collins, CO         NaN    1.0         NaN  ...   \n",
              "2     Cincinnati, OH  64896719.0    8.0         NaN  ...   \n",
              "3  New Hyde Park, NY    766262.0   16.0         NaN  ...   \n",
              "4     Burlington, IA         NaN    3.0         NaN  ...   \n",
              "\n",
              "                                         skills_desc   listed_time  \\\n",
              "0  Requirements: \\n\\nWe are seeking a College or ...  1.713398e+12   \n",
              "1                                                NaN  1.712858e+12   \n",
              "2  We are currently accepting resumes for FOH - A...  1.713278e+12   \n",
              "3  This position requires a baseline understandin...  1.712896e+12   \n",
              "4                                                NaN  1.713452e+12   \n",
              "\n",
              "   posting_domain  sponsored  work_type currency compensation_type  \\\n",
              "0             NaN          0  FULL_TIME      USD       BASE_SALARY   \n",
              "1             NaN          0  FULL_TIME      USD       BASE_SALARY   \n",
              "2             NaN          0  FULL_TIME      USD       BASE_SALARY   \n",
              "3             NaN          0  FULL_TIME      USD       BASE_SALARY   \n",
              "4             NaN          0  FULL_TIME      USD       BASE_SALARY   \n",
              "\n",
              "  normalized_salary  zip_code     fips  \n",
              "0           38480.0    8540.0  34021.0  \n",
              "1           83200.0   80521.0   8069.0  \n",
              "2           55000.0   45202.0  39061.0  \n",
              "3          157500.0   11040.0  36059.0  \n",
              "4           70000.0   52601.0  19057.0  \n",
              "\n",
              "[5 rows x 31 columns]"
            ]
          },
          "execution_count": 4,
          "metadata": {},
          "output_type": "execute_result"
        }
      ],
      "source": [
        "postings_df = pd.read_csv(f\"{path}/postings.csv\")\n",
        "postings_df.head()"
      ]
    },
    {
      "cell_type": "code",
      "execution_count": 5,
      "metadata": {
        "colab": {
          "base_uri": "https://localhost:8080/"
        },
        "id": "crCH75ARV3Zn",
        "outputId": "dd2ae62d-9f3d-4942-a801-001b8e996653"
      },
      "outputs": [
        {
          "name": "stdout",
          "output_type": "stream",
          "text": [
            "     industry_id                            industry_name\n",
            "2              4                     Software Development\n",
            "3              5             Computer Networking Products\n",
            "4              6     Technology, Information and Internet\n",
            "22            24  Computers and Electronics Manufacturing\n",
            "93            96            IT Services and IT Consulting\n",
            "106          109                           Computer Games\n",
            "115          118            Computer and Network Security\n",
            "129          132                     E-Learning Providers\n",
            "226         1285           Internet Marketplace Platforms\n",
            "268         1855                IT System Design Services\n",
            "342         3101      Desktop Computing Software Products\n",
            "343         3102    IT System Custom Software Development\n",
            "344         3103     IT System Operations and Maintenance\n",
            "345         3104      IT System Installation and Disposal\n",
            "346         3105           IT System Training and Support\n",
            "347         3106                  IT System Data Services\n",
            "348         3107         IT System Testing and Evaluation\n",
            "351         3127              Social Networking Platforms\n",
            "352         3128          Business Intelligence Platforms\n",
            "354         3130          Data Security Software Products\n",
            "358         3134                      Blockchain Services\n",
            "403         3234                      Computer Networking\n"
          ]
        },
        {
          "name": "stderr",
          "output_type": "stream",
          "text": [
            "/var/folders/gb/7v068m41117fznc0hh2hds0r0000gn/T/ipykernel_54192/197863923.py:29: UserWarning: Boolean Series key will be reindexed to match DataFrame index.\n",
            "  ins_it = ins_it[~ins_exlcude]\n"
          ]
        }
      ],
      "source": [
        "# Load the Job Postings CSV file into a Pandas DataFrame\n",
        "jimap_df = pd.read_csv(f\"{path}/jobs/job_industries.csv\")\n",
        "ins_df = pd.read_csv(f\"{path}/mappings/industries.csv\")\n",
        "\n",
        "# print the industries related to IT/software derived from chat gpt\n",
        "IT_IND_KEYWORDS = [\n",
        "    \"Software\",\n",
        "    \"IT Services\",\n",
        "    \"IT System\",\n",
        "    \"Computer\",\n",
        "    \"Data Security Software Products\",\n",
        "    \"Blockchain\",\n",
        "    \"Internet\",\n",
        "    \"Social Networking\",\n",
        "    \"Business Intelligence\",\n",
        "    \"E-Learning\",\n",
        "]\n",
        "IT_IND_STOPWORDS = [\n",
        "    \"Publishing\",\n",
        "    \"News\",\n",
        "    \"Hardware\",\n",
        "    \"Equipment\"\n",
        "]\n",
        "# print('|'.join(IT_IND_KEYWORDS))\n",
        "ins_include = ins_df['industry_name'].str.contains('|'.join(IT_IND_KEYWORDS), na=False)\n",
        "ins_exlcude = ins_df['industry_name'].str.contains('|'.join(IT_IND_STOPWORDS),na=False )\n",
        "\n",
        "ins_it = ins_df[ins_include]\n",
        "ins_it = ins_it[~ins_exlcude]\n",
        "\n",
        "print(ins_it)"
      ]
    },
    {
      "cell_type": "code",
      "execution_count": 6,
      "metadata": {
        "colab": {
          "base_uri": "https://localhost:8080/",
          "height": 637
        },
        "id": "39EqtKE5WEyG",
        "outputId": "be2e8d14-1c7c-4e4f-f0bf-dd3f399bc088"
      },
      "outputs": [
        {
          "name": "stdout",
          "output_type": "stream",
          "text": [
            "the shape of df_itpos: (18675, 33)\n"
          ]
        },
        {
          "data": {
            "text/html": [
              "<div>\n",
              "<style scoped>\n",
              "    .dataframe tbody tr th:only-of-type {\n",
              "        vertical-align: middle;\n",
              "    }\n",
              "\n",
              "    .dataframe tbody tr th {\n",
              "        vertical-align: top;\n",
              "    }\n",
              "\n",
              "    .dataframe thead th {\n",
              "        text-align: right;\n",
              "    }\n",
              "</style>\n",
              "<table border=\"1\" class=\"dataframe\">\n",
              "  <thead>\n",
              "    <tr style=\"text-align: right;\">\n",
              "      <th></th>\n",
              "      <th>industry_id</th>\n",
              "      <th>industry_name</th>\n",
              "      <th>job_id</th>\n",
              "      <th>company_name</th>\n",
              "      <th>title</th>\n",
              "      <th>description</th>\n",
              "      <th>max_salary</th>\n",
              "      <th>pay_period</th>\n",
              "      <th>location</th>\n",
              "      <th>company_id</th>\n",
              "      <th>...</th>\n",
              "      <th>skills_desc</th>\n",
              "      <th>listed_time</th>\n",
              "      <th>posting_domain</th>\n",
              "      <th>sponsored</th>\n",
              "      <th>work_type</th>\n",
              "      <th>currency</th>\n",
              "      <th>compensation_type</th>\n",
              "      <th>normalized_salary</th>\n",
              "      <th>zip_code</th>\n",
              "      <th>fips</th>\n",
              "    </tr>\n",
              "  </thead>\n",
              "  <tbody>\n",
              "    <tr>\n",
              "      <th>0</th>\n",
              "      <td>4</td>\n",
              "      <td>Software Development</td>\n",
              "      <td>3884916106</td>\n",
              "      <td>Direct Sales Recruiting, LLC</td>\n",
              "      <td>Sales Manager - Public Relations &amp; Investor Re...</td>\n",
              "      <td>Sales Manager - Public Relations &amp; Investor Re...</td>\n",
              "      <td>NaN</td>\n",
              "      <td>NaN</td>\n",
              "      <td>New York City Metropolitan Area</td>\n",
              "      <td>766849.0</td>\n",
              "      <td>...</td>\n",
              "      <td>NaN</td>\n",
              "      <td>1.712346e+12</td>\n",
              "      <td>NaN</td>\n",
              "      <td>0</td>\n",
              "      <td>FULL_TIME</td>\n",
              "      <td>NaN</td>\n",
              "      <td>NaN</td>\n",
              "      <td>NaN</td>\n",
              "      <td>NaN</td>\n",
              "      <td>NaN</td>\n",
              "    </tr>\n",
              "    <tr>\n",
              "      <th>1</th>\n",
              "      <td>96</td>\n",
              "      <td>IT Services and IT Consulting</td>\n",
              "      <td>3884916106</td>\n",
              "      <td>Direct Sales Recruiting, LLC</td>\n",
              "      <td>Sales Manager - Public Relations &amp; Investor Re...</td>\n",
              "      <td>Sales Manager - Public Relations &amp; Investor Re...</td>\n",
              "      <td>NaN</td>\n",
              "      <td>NaN</td>\n",
              "      <td>New York City Metropolitan Area</td>\n",
              "      <td>766849.0</td>\n",
              "      <td>...</td>\n",
              "      <td>NaN</td>\n",
              "      <td>1.712346e+12</td>\n",
              "      <td>NaN</td>\n",
              "      <td>0</td>\n",
              "      <td>FULL_TIME</td>\n",
              "      <td>NaN</td>\n",
              "      <td>NaN</td>\n",
              "      <td>NaN</td>\n",
              "      <td>NaN</td>\n",
              "      <td>NaN</td>\n",
              "    </tr>\n",
              "    <tr>\n",
              "      <th>2</th>\n",
              "      <td>4</td>\n",
              "      <td>Software Development</td>\n",
              "      <td>3884915161</td>\n",
              "      <td>Direct Sales Recruiting, LLC</td>\n",
              "      <td>Business Development Rep - Digital Media - Chi...</td>\n",
              "      <td>Business Development Rep - Digital Media \\nOur...</td>\n",
              "      <td>80000.0</td>\n",
              "      <td>YEARLY</td>\n",
              "      <td>Greater Chicago Area</td>\n",
              "      <td>766849.0</td>\n",
              "      <td>...</td>\n",
              "      <td>NaN</td>\n",
              "      <td>1.712346e+12</td>\n",
              "      <td>NaN</td>\n",
              "      <td>0</td>\n",
              "      <td>FULL_TIME</td>\n",
              "      <td>USD</td>\n",
              "      <td>BASE_SALARY</td>\n",
              "      <td>65000.0</td>\n",
              "      <td>NaN</td>\n",
              "      <td>NaN</td>\n",
              "    </tr>\n",
              "    <tr>\n",
              "      <th>3</th>\n",
              "      <td>96</td>\n",
              "      <td>IT Services and IT Consulting</td>\n",
              "      <td>3884915161</td>\n",
              "      <td>Direct Sales Recruiting, LLC</td>\n",
              "      <td>Business Development Rep - Digital Media - Chi...</td>\n",
              "      <td>Business Development Rep - Digital Media \\nOur...</td>\n",
              "      <td>80000.0</td>\n",
              "      <td>YEARLY</td>\n",
              "      <td>Greater Chicago Area</td>\n",
              "      <td>766849.0</td>\n",
              "      <td>...</td>\n",
              "      <td>NaN</td>\n",
              "      <td>1.712346e+12</td>\n",
              "      <td>NaN</td>\n",
              "      <td>0</td>\n",
              "      <td>FULL_TIME</td>\n",
              "      <td>USD</td>\n",
              "      <td>BASE_SALARY</td>\n",
              "      <td>65000.0</td>\n",
              "      <td>NaN</td>\n",
              "      <td>NaN</td>\n",
              "    </tr>\n",
              "    <tr>\n",
              "      <th>4</th>\n",
              "      <td>4</td>\n",
              "      <td>Software Development</td>\n",
              "      <td>3887466954</td>\n",
              "      <td>hackajob</td>\n",
              "      <td>Cloud Engineer</td>\n",
              "      <td>hackajob transforms your job search into a per...</td>\n",
              "      <td>160000.0</td>\n",
              "      <td>YEARLY</td>\n",
              "      <td>Suitland, MD</td>\n",
              "      <td>5396873.0</td>\n",
              "      <td>...</td>\n",
              "      <td>NaN</td>\n",
              "      <td>1.712346e+12</td>\n",
              "      <td>NaN</td>\n",
              "      <td>0</td>\n",
              "      <td>FULL_TIME</td>\n",
              "      <td>USD</td>\n",
              "      <td>BASE_SALARY</td>\n",
              "      <td>135000.0</td>\n",
              "      <td>20746.0</td>\n",
              "      <td>24033.0</td>\n",
              "    </tr>\n",
              "  </tbody>\n",
              "</table>\n",
              "<p>5 rows × 33 columns</p>\n",
              "</div>"
            ],
            "text/plain": [
              "   industry_id                  industry_name      job_id  \\\n",
              "0            4           Software Development  3884916106   \n",
              "1           96  IT Services and IT Consulting  3884916106   \n",
              "2            4           Software Development  3884915161   \n",
              "3           96  IT Services and IT Consulting  3884915161   \n",
              "4            4           Software Development  3887466954   \n",
              "\n",
              "                   company_name  \\\n",
              "0  Direct Sales Recruiting, LLC   \n",
              "1  Direct Sales Recruiting, LLC   \n",
              "2  Direct Sales Recruiting, LLC   \n",
              "3  Direct Sales Recruiting, LLC   \n",
              "4                      hackajob   \n",
              "\n",
              "                                               title  \\\n",
              "0  Sales Manager - Public Relations & Investor Re...   \n",
              "1  Sales Manager - Public Relations & Investor Re...   \n",
              "2  Business Development Rep - Digital Media - Chi...   \n",
              "3  Business Development Rep - Digital Media - Chi...   \n",
              "4                                     Cloud Engineer   \n",
              "\n",
              "                                         description  max_salary pay_period  \\\n",
              "0  Sales Manager - Public Relations & Investor Re...         NaN        NaN   \n",
              "1  Sales Manager - Public Relations & Investor Re...         NaN        NaN   \n",
              "2  Business Development Rep - Digital Media \\nOur...     80000.0     YEARLY   \n",
              "3  Business Development Rep - Digital Media \\nOur...     80000.0     YEARLY   \n",
              "4  hackajob transforms your job search into a per...    160000.0     YEARLY   \n",
              "\n",
              "                          location  company_id  ...  skills_desc  \\\n",
              "0  New York City Metropolitan Area    766849.0  ...          NaN   \n",
              "1  New York City Metropolitan Area    766849.0  ...          NaN   \n",
              "2             Greater Chicago Area    766849.0  ...          NaN   \n",
              "3             Greater Chicago Area    766849.0  ...          NaN   \n",
              "4                     Suitland, MD   5396873.0  ...          NaN   \n",
              "\n",
              "    listed_time  posting_domain sponsored  work_type  currency  \\\n",
              "0  1.712346e+12             NaN         0  FULL_TIME       NaN   \n",
              "1  1.712346e+12             NaN         0  FULL_TIME       NaN   \n",
              "2  1.712346e+12             NaN         0  FULL_TIME       USD   \n",
              "3  1.712346e+12             NaN         0  FULL_TIME       USD   \n",
              "4  1.712346e+12             NaN         0  FULL_TIME       USD   \n",
              "\n",
              "   compensation_type normalized_salary zip_code     fips  \n",
              "0                NaN               NaN      NaN      NaN  \n",
              "1                NaN               NaN      NaN      NaN  \n",
              "2        BASE_SALARY           65000.0      NaN      NaN  \n",
              "3        BASE_SALARY           65000.0      NaN      NaN  \n",
              "4        BASE_SALARY          135000.0  20746.0  24033.0  \n",
              "\n",
              "[5 rows x 33 columns]"
            ]
          },
          "execution_count": 6,
          "metadata": {},
          "output_type": "execute_result"
        }
      ],
      "source": [
        "df_itpos = pd.merge(pd.merge(ins_it,jimap_df,on='industry_id'), postings_df, on='job_id')\n",
        "print(f'the shape of df_itpos: {df_itpos.shape}')\n",
        "df_itpos.head()"
      ]
    },
    {
      "cell_type": "code",
      "execution_count": 7,
      "metadata": {},
      "outputs": [],
      "source": [
        "df_itpos.to_csv('data/IT_postings.csv')"
      ]
    },
    {
      "cell_type": "code",
      "execution_count": 8,
      "metadata": {},
      "outputs": [
        {
          "data": {
            "text/plain": [
              "array(['Software Development', 'IT Services and IT Consulting',\n",
              "       'Technology, Information and Internet',\n",
              "       'Computers and Electronics Manufacturing',\n",
              "       'Computer and Network Security',\n",
              "       'IT System Custom Software Development', 'Computer Games',\n",
              "       'Computer Networking Products', 'E-Learning Providers',\n",
              "       'IT System Training and Support', 'IT System Data Services',\n",
              "       'Internet Marketplace Platforms',\n",
              "       'IT System Testing and Evaluation', 'IT System Design Services',\n",
              "       'IT System Installation and Disposal',\n",
              "       'Desktop Computing Software Products',\n",
              "       'IT System Operations and Maintenance',\n",
              "       'Social Networking Platforms', 'Business Intelligence Platforms',\n",
              "       'Data Security Software Products', 'Blockchain Services',\n",
              "       'Computer Networking'], dtype=object)"
            ]
          },
          "execution_count": 8,
          "metadata": {},
          "output_type": "execute_result"
        }
      ],
      "source": [
        "df_itpos['industry_name'].unique()"
      ]
    },
    {
      "cell_type": "code",
      "execution_count": 9,
      "metadata": {
        "colab": {
          "base_uri": "https://localhost:8080/"
        },
        "id": "PFt4a3GIWhyL",
        "outputId": "78ef122a-b0b4-4eaf-fa8c-6f2863fc39f1"
      },
      "outputs": [
        {
          "data": {
            "text/plain": [
              "(18675, 33)"
            ]
          },
          "execution_count": 9,
          "metadata": {},
          "output_type": "execute_result"
        }
      ],
      "source": [
        "df_itpos.shape"
      ]
    },
    {
      "cell_type": "code",
      "execution_count": 10,
      "metadata": {
        "colab": {
          "base_uri": "https://localhost:8080/",
          "height": 487
        },
        "id": "FUg2RkmXWiqp",
        "outputId": "14b1c13c-1c6a-4143-8ed8-6cc5eb8f97fb"
      },
      "outputs": [
        {
          "data": {
            "image/png": "[encoded data removed]",
            "text/plain": [
              "<Figure size 640x480 with 1 Axes>"
            ]
          },
          "metadata": {},
          "output_type": "display_data"
        }
      ],
      "source": [
        "top_industries = df_itpos['industry_name'].value_counts().nlargest(10)\n",
        "\n",
        "top_industries.plot(kind='barh')\n",
        "plt.title('Top 10 Industries by Job Postings')\n",
        "plt.xlabel('Number of Postings')\n",
        "plt.gca().invert_yaxis()\n",
        "plt.tight_layout()\n",
        "plt.show()\n"
      ]
    },
    {
      "cell_type": "code",
      "execution_count": 11,
      "metadata": {
        "colab": {
          "base_uri": "https://localhost:8080/",
          "height": 472
        },
        "id": "HhnsJ6B2Xnvg",
        "outputId": "12188463-6f27-4335-9adb-bf6139177337"
      },
      "outputs": [
        {
          "data": {
            "image/png": "[encoded data removed]",
            "text/plain": [
              "<Figure size 640x480 with 1 Axes>"
            ]
          },
          "metadata": {},
          "output_type": "display_data"
        }
      ],
      "source": [
        "# Filter out salaries above the 99th percentile\n",
        "threshold = df_itpos['max_salary'].quantile(0.99)\n",
        "\n",
        "# Drop nulls and apply threshold\n",
        "filtered = df_itpos[df_itpos['max_salary'] <= threshold]['max_salary'].dropna()\n",
        "\n",
        "# Plot\n",
        "filtered.plot(kind='hist', bins=30)\n",
        "plt.title('Histogram of Max Salary (Filtered)')\n",
        "plt.xlabel('Max Salary')\n",
        "plt.ylabel('Frequency')\n",
        "plt.show()\n",
        "\n"
      ]
    },
    {
      "cell_type": "code",
      "execution_count": 12,
      "metadata": {
        "colab": {
          "base_uri": "https://localhost:8080/",
          "height": 472
        },
        "id": "OwAcPVnQXzvE",
        "outputId": "c7988547-bd46-4c21-e16a-9da4922d2d94"
      },
      "outputs": [
        {
          "data": {
            "image/png": "[encoded data removed]",
            "text/plain": [
              "<Figure size 640x480 with 1 Axes>"
            ]
          },
          "metadata": {},
          "output_type": "display_data"
        }
      ],
      "source": [
        "# Filter out salaries above the 99th percentile\n",
        "threshold = df_itpos['min_salary'].quantile(0.99)\n",
        "\n",
        "# Drop nulls and apply threshold\n",
        "filtered = df_itpos[df_itpos['min_salary'] <= threshold]['min_salary'].dropna()\n",
        "\n",
        "# Plot\n",
        "filtered.plot(kind='hist', bins=30)\n",
        "plt.title('Histogram of Min Salary (Filtered)')\n",
        "plt.xlabel('Min Salary')\n",
        "plt.ylabel('Frequency')\n",
        "plt.show()"
      ]
    },
    {
      "cell_type": "markdown",
      "metadata": {
        "id": "WbHXh2cSYVLJ"
      },
      "source": []
    },
    {
      "cell_type": "code",
      "execution_count": 13,
      "metadata": {
        "colab": {
          "base_uri": "https://localhost:8080/",
          "height": 487
        },
        "id": "OwN_W8vJYVUR",
        "outputId": "5d95bd90-cadd-405e-c5a7-a3d11c15908c"
      },
      "outputs": [
        {
          "data": {
            "image/png": "[encoded data removed]",
            "text/plain": [
              "<Figure size 640x480 with 1 Axes>"
            ]
          },
          "metadata": {},
          "output_type": "display_data"
        }
      ],
      "source": [
        "top_titles = df_itpos['title'].value_counts().nlargest(10)\n",
        "\n",
        "top_titles.plot(kind='barh')\n",
        "plt.title('Top 10 Job Titles')\n",
        "plt.xlabel('Number of Postings')\n",
        "plt.gca().invert_yaxis()\n",
        "plt.tight_layout()\n",
        "plt.show()\n"
      ]
    },
    {
      "cell_type": "code",
      "execution_count": 14,
      "metadata": {
        "colab": {
          "base_uri": "https://localhost:8080/",
          "height": 1000
        },
        "id": "4H2Efirw7fIe",
        "outputId": "c0197721-6e41-4f42-fd24-4995f5ffba7a"
      },
      "outputs": [
        {
          "data": {
            "text/html": [
              "<div>\n",
              "<style scoped>\n",
              "    .dataframe tbody tr th:only-of-type {\n",
              "        vertical-align: middle;\n",
              "    }\n",
              "\n",
              "    .dataframe tbody tr th {\n",
              "        vertical-align: top;\n",
              "    }\n",
              "\n",
              "    .dataframe thead th {\n",
              "        text-align: right;\n",
              "    }\n",
              "</style>\n",
              "<table border=\"1\" class=\"dataframe\">\n",
              "  <thead>\n",
              "    <tr style=\"text-align: right;\">\n",
              "      <th></th>\n",
              "      <th>industry_id</th>\n",
              "      <th>industry_name</th>\n",
              "      <th>job_id</th>\n",
              "      <th>company_name</th>\n",
              "      <th>title</th>\n",
              "      <th>description</th>\n",
              "      <th>max_salary</th>\n",
              "      <th>pay_period</th>\n",
              "      <th>location</th>\n",
              "      <th>company_id</th>\n",
              "      <th>...</th>\n",
              "      <th>skills_desc</th>\n",
              "      <th>listed_time</th>\n",
              "      <th>posting_domain</th>\n",
              "      <th>sponsored</th>\n",
              "      <th>work_type</th>\n",
              "      <th>currency</th>\n",
              "      <th>compensation_type</th>\n",
              "      <th>normalized_salary</th>\n",
              "      <th>zip_code</th>\n",
              "      <th>fips</th>\n",
              "    </tr>\n",
              "  </thead>\n",
              "  <tbody>\n",
              "    <tr>\n",
              "      <th>0</th>\n",
              "      <td>4</td>\n",
              "      <td>Software Development</td>\n",
              "      <td>3884916106</td>\n",
              "      <td>Direct Sales Recruiting, LLC</td>\n",
              "      <td>Sales Manager - Public Relations &amp; Investor Re...</td>\n",
              "      <td>Sales Manager - Public Relations &amp; Investor Re...</td>\n",
              "      <td>NaN</td>\n",
              "      <td>NaN</td>\n",
              "      <td>New York City Metropolitan Area</td>\n",
              "      <td>766849.0</td>\n",
              "      <td>...</td>\n",
              "      <td>NaN</td>\n",
              "      <td>1.712346e+12</td>\n",
              "      <td>NaN</td>\n",
              "      <td>0</td>\n",
              "      <td>FULL_TIME</td>\n",
              "      <td>NaN</td>\n",
              "      <td>NaN</td>\n",
              "      <td>NaN</td>\n",
              "      <td>NaN</td>\n",
              "      <td>NaN</td>\n",
              "    </tr>\n",
              "    <tr>\n",
              "      <th>1</th>\n",
              "      <td>96</td>\n",
              "      <td>IT Services and IT Consulting</td>\n",
              "      <td>3884916106</td>\n",
              "      <td>Direct Sales Recruiting, LLC</td>\n",
              "      <td>Sales Manager - Public Relations &amp; Investor Re...</td>\n",
              "      <td>Sales Manager - Public Relations &amp; Investor Re...</td>\n",
              "      <td>NaN</td>\n",
              "      <td>NaN</td>\n",
              "      <td>New York City Metropolitan Area</td>\n",
              "      <td>766849.0</td>\n",
              "      <td>...</td>\n",
              "      <td>NaN</td>\n",
              "      <td>1.712346e+12</td>\n",
              "      <td>NaN</td>\n",
              "      <td>0</td>\n",
              "      <td>FULL_TIME</td>\n",
              "      <td>NaN</td>\n",
              "      <td>NaN</td>\n",
              "      <td>NaN</td>\n",
              "      <td>NaN</td>\n",
              "      <td>NaN</td>\n",
              "    </tr>\n",
              "    <tr>\n",
              "      <th>2</th>\n",
              "      <td>4</td>\n",
              "      <td>Software Development</td>\n",
              "      <td>3884915161</td>\n",
              "      <td>Direct Sales Recruiting, LLC</td>\n",
              "      <td>Business Development Rep - Digital Media - Chi...</td>\n",
              "      <td>Business Development Rep - Digital Media \\nOur...</td>\n",
              "      <td>80000.0</td>\n",
              "      <td>YEARLY</td>\n",
              "      <td>Greater Chicago Area</td>\n",
              "      <td>766849.0</td>\n",
              "      <td>...</td>\n",
              "      <td>NaN</td>\n",
              "      <td>1.712346e+12</td>\n",
              "      <td>NaN</td>\n",
              "      <td>0</td>\n",
              "      <td>FULL_TIME</td>\n",
              "      <td>USD</td>\n",
              "      <td>BASE_SALARY</td>\n",
              "      <td>65000.0</td>\n",
              "      <td>NaN</td>\n",
              "      <td>NaN</td>\n",
              "    </tr>\n",
              "    <tr>\n",
              "      <th>3</th>\n",
              "      <td>96</td>\n",
              "      <td>IT Services and IT Consulting</td>\n",
              "      <td>3884915161</td>\n",
              "      <td>Direct Sales Recruiting, LLC</td>\n",
              "      <td>Business Development Rep - Digital Media - Chi...</td>\n",
              "      <td>Business Development Rep - Digital Media \\nOur...</td>\n",
              "      <td>80000.0</td>\n",
              "      <td>YEARLY</td>\n",
              "      <td>Greater Chicago Area</td>\n",
              "      <td>766849.0</td>\n",
              "      <td>...</td>\n",
              "      <td>NaN</td>\n",
              "      <td>1.712346e+12</td>\n",
              "      <td>NaN</td>\n",
              "      <td>0</td>\n",
              "      <td>FULL_TIME</td>\n",
              "      <td>USD</td>\n",
              "      <td>BASE_SALARY</td>\n",
              "      <td>65000.0</td>\n",
              "      <td>NaN</td>\n",
              "      <td>NaN</td>\n",
              "    </tr>\n",
              "    <tr>\n",
              "      <th>4</th>\n",
              "      <td>4</td>\n",
              "      <td>Software Development</td>\n",
              "      <td>3887466954</td>\n",
              "      <td>hackajob</td>\n",
              "      <td>Cloud Engineer</td>\n",
              "      <td>hackajob transforms your job search into a per...</td>\n",
              "      <td>160000.0</td>\n",
              "      <td>YEARLY</td>\n",
              "      <td>Suitland, MD</td>\n",
              "      <td>5396873.0</td>\n",
              "      <td>...</td>\n",
              "      <td>NaN</td>\n",
              "      <td>1.712346e+12</td>\n",
              "      <td>NaN</td>\n",
              "      <td>0</td>\n",
              "      <td>FULL_TIME</td>\n",
              "      <td>USD</td>\n",
              "      <td>BASE_SALARY</td>\n",
              "      <td>135000.0</td>\n",
              "      <td>20746.0</td>\n",
              "      <td>24033.0</td>\n",
              "    </tr>\n",
              "    <tr>\n",
              "      <th>...</th>\n",
              "      <td>...</td>\n",
              "      <td>...</td>\n",
              "      <td>...</td>\n",
              "      <td>...</td>\n",
              "      <td>...</td>\n",
              "      <td>...</td>\n",
              "      <td>...</td>\n",
              "      <td>...</td>\n",
              "      <td>...</td>\n",
              "      <td>...</td>\n",
              "      <td>...</td>\n",
              "      <td>...</td>\n",
              "      <td>...</td>\n",
              "      <td>...</td>\n",
              "      <td>...</td>\n",
              "      <td>...</td>\n",
              "      <td>...</td>\n",
              "      <td>...</td>\n",
              "      <td>...</td>\n",
              "      <td>...</td>\n",
              "      <td>...</td>\n",
              "    </tr>\n",
              "    <tr>\n",
              "      <th>18670</th>\n",
              "      <td>3234</td>\n",
              "      <td>Computer Networking</td>\n",
              "      <td>3894568283</td>\n",
              "      <td>Internet2</td>\n",
              "      <td>Remote Part-Time Intern - Cloud Programs</td>\n",
              "      <td>Internet2 is seeking a Part Time Cloud Program...</td>\n",
              "      <td>NaN</td>\n",
              "      <td>NaN</td>\n",
              "      <td>United States</td>\n",
              "      <td>19264.0</td>\n",
              "      <td>...</td>\n",
              "      <td>NaN</td>\n",
              "      <td>1.712893e+12</td>\n",
              "      <td>workforcenow.adp.com</td>\n",
              "      <td>0</td>\n",
              "      <td>PART_TIME</td>\n",
              "      <td>NaN</td>\n",
              "      <td>NaN</td>\n",
              "      <td>NaN</td>\n",
              "      <td>NaN</td>\n",
              "      <td>NaN</td>\n",
              "    </tr>\n",
              "    <tr>\n",
              "      <th>18671</th>\n",
              "      <td>3234</td>\n",
              "      <td>Computer Networking</td>\n",
              "      <td>3894568284</td>\n",
              "      <td>Internet2</td>\n",
              "      <td>Accounting Assistant - Hybrid in Ann Arbor</td>\n",
              "      <td>Accounting Assistant, Hybrid (1 day in office)...</td>\n",
              "      <td>NaN</td>\n",
              "      <td>NaN</td>\n",
              "      <td>Ann Arbor, MI</td>\n",
              "      <td>19264.0</td>\n",
              "      <td>...</td>\n",
              "      <td>NaN</td>\n",
              "      <td>1.712893e+12</td>\n",
              "      <td>workforcenow.adp.com</td>\n",
              "      <td>0</td>\n",
              "      <td>FULL_TIME</td>\n",
              "      <td>NaN</td>\n",
              "      <td>NaN</td>\n",
              "      <td>NaN</td>\n",
              "      <td>48103.0</td>\n",
              "      <td>26161.0</td>\n",
              "    </tr>\n",
              "    <tr>\n",
              "      <th>18672</th>\n",
              "      <td>3234</td>\n",
              "      <td>Computer Networking</td>\n",
              "      <td>3901944513</td>\n",
              "      <td>Sercomm</td>\n",
              "      <td>System Engineer</td>\n",
              "      <td>Sercomm Technology Inc., is the U.S. subsidiar...</td>\n",
              "      <td>NaN</td>\n",
              "      <td>NaN</td>\n",
              "      <td>United States</td>\n",
              "      <td>22348.0</td>\n",
              "      <td>...</td>\n",
              "      <td>NaN</td>\n",
              "      <td>1.713474e+12</td>\n",
              "      <td>NaN</td>\n",
              "      <td>0</td>\n",
              "      <td>FULL_TIME</td>\n",
              "      <td>NaN</td>\n",
              "      <td>NaN</td>\n",
              "      <td>NaN</td>\n",
              "      <td>NaN</td>\n",
              "      <td>NaN</td>\n",
              "    </tr>\n",
              "    <tr>\n",
              "      <th>18673</th>\n",
              "      <td>3234</td>\n",
              "      <td>Computer Networking</td>\n",
              "      <td>3902320466</td>\n",
              "      <td>Allied Telesis</td>\n",
              "      <td>Product Manager</td>\n",
              "      <td>Company Description Allied Telesis is a leadin...</td>\n",
              "      <td>NaN</td>\n",
              "      <td>NaN</td>\n",
              "      <td>San Francisco Bay Area</td>\n",
              "      <td>5584.0</td>\n",
              "      <td>...</td>\n",
              "      <td>NaN</td>\n",
              "      <td>1.713515e+12</td>\n",
              "      <td>NaN</td>\n",
              "      <td>0</td>\n",
              "      <td>FULL_TIME</td>\n",
              "      <td>NaN</td>\n",
              "      <td>NaN</td>\n",
              "      <td>NaN</td>\n",
              "      <td>NaN</td>\n",
              "      <td>NaN</td>\n",
              "    </tr>\n",
              "    <tr>\n",
              "      <th>18674</th>\n",
              "      <td>3234</td>\n",
              "      <td>Computer Networking</td>\n",
              "      <td>3905852463</td>\n",
              "      <td>SHAKE</td>\n",
              "      <td>Artificial Intelligence Engineer</td>\n",
              "      <td>Company Description Shake - social networking ...</td>\n",
              "      <td>NaN</td>\n",
              "      <td>NaN</td>\n",
              "      <td>San Francisco Bay Area</td>\n",
              "      <td>12580368.0</td>\n",
              "      <td>...</td>\n",
              "      <td>NaN</td>\n",
              "      <td>1.713536e+12</td>\n",
              "      <td>NaN</td>\n",
              "      <td>0</td>\n",
              "      <td>PART_TIME</td>\n",
              "      <td>NaN</td>\n",
              "      <td>NaN</td>\n",
              "      <td>NaN</td>\n",
              "      <td>NaN</td>\n",
              "      <td>NaN</td>\n",
              "    </tr>\n",
              "  </tbody>\n",
              "</table>\n",
              "<p>18675 rows × 33 columns</p>\n",
              "</div>"
            ],
            "text/plain": [
              "       industry_id                  industry_name      job_id  \\\n",
              "0                4           Software Development  3884916106   \n",
              "1               96  IT Services and IT Consulting  3884916106   \n",
              "2                4           Software Development  3884915161   \n",
              "3               96  IT Services and IT Consulting  3884915161   \n",
              "4                4           Software Development  3887466954   \n",
              "...            ...                            ...         ...   \n",
              "18670         3234            Computer Networking  3894568283   \n",
              "18671         3234            Computer Networking  3894568284   \n",
              "18672         3234            Computer Networking  3901944513   \n",
              "18673         3234            Computer Networking  3902320466   \n",
              "18674         3234            Computer Networking  3905852463   \n",
              "\n",
              "                       company_name  \\\n",
              "0      Direct Sales Recruiting, LLC   \n",
              "1      Direct Sales Recruiting, LLC   \n",
              "2      Direct Sales Recruiting, LLC   \n",
              "3      Direct Sales Recruiting, LLC   \n",
              "4                          hackajob   \n",
              "...                             ...   \n",
              "18670                     Internet2   \n",
              "18671                     Internet2   \n",
              "18672                       Sercomm   \n",
              "18673                Allied Telesis   \n",
              "18674                         SHAKE   \n",
              "\n",
              "                                                   title  \\\n",
              "0      Sales Manager - Public Relations & Investor Re...   \n",
              "1      Sales Manager - Public Relations & Investor Re...   \n",
              "2      Business Development Rep - Digital Media - Chi...   \n",
              "3      Business Development Rep - Digital Media - Chi...   \n",
              "4                                         Cloud Engineer   \n",
              "...                                                  ...   \n",
              "18670           Remote Part-Time Intern - Cloud Programs   \n",
              "18671         Accounting Assistant - Hybrid in Ann Arbor   \n",
              "18672                                    System Engineer   \n",
              "18673                                    Product Manager   \n",
              "18674                   Artificial Intelligence Engineer   \n",
              "\n",
              "                                             description  max_salary  \\\n",
              "0      Sales Manager - Public Relations & Investor Re...         NaN   \n",
              "1      Sales Manager - Public Relations & Investor Re...         NaN   \n",
              "2      Business Development Rep - Digital Media \\nOur...     80000.0   \n",
              "3      Business Development Rep - Digital Media \\nOur...     80000.0   \n",
              "4      hackajob transforms your job search into a per...    160000.0   \n",
              "...                                                  ...         ...   \n",
              "18670  Internet2 is seeking a Part Time Cloud Program...         NaN   \n",
              "18671  Accounting Assistant, Hybrid (1 day in office)...         NaN   \n",
              "18672  Sercomm Technology Inc., is the U.S. subsidiar...         NaN   \n",
              "18673  Company Description Allied Telesis is a leadin...         NaN   \n",
              "18674  Company Description Shake - social networking ...         NaN   \n",
              "\n",
              "      pay_period                         location  company_id  ...  \\\n",
              "0            NaN  New York City Metropolitan Area    766849.0  ...   \n",
              "1            NaN  New York City Metropolitan Area    766849.0  ...   \n",
              "2         YEARLY             Greater Chicago Area    766849.0  ...   \n",
              "3         YEARLY             Greater Chicago Area    766849.0  ...   \n",
              "4         YEARLY                     Suitland, MD   5396873.0  ...   \n",
              "...          ...                              ...         ...  ...   \n",
              "18670        NaN                    United States     19264.0  ...   \n",
              "18671        NaN                    Ann Arbor, MI     19264.0  ...   \n",
              "18672        NaN                    United States     22348.0  ...   \n",
              "18673        NaN           San Francisco Bay Area      5584.0  ...   \n",
              "18674        NaN           San Francisco Bay Area  12580368.0  ...   \n",
              "\n",
              "       skills_desc   listed_time        posting_domain sponsored  work_type  \\\n",
              "0              NaN  1.712346e+12                   NaN         0  FULL_TIME   \n",
              "1              NaN  1.712346e+12                   NaN         0  FULL_TIME   \n",
              "2              NaN  1.712346e+12                   NaN         0  FULL_TIME   \n",
              "3              NaN  1.712346e+12                   NaN         0  FULL_TIME   \n",
              "4              NaN  1.712346e+12                   NaN         0  FULL_TIME   \n",
              "...            ...           ...                   ...       ...        ...   \n",
              "18670          NaN  1.712893e+12  workforcenow.adp.com         0  PART_TIME   \n",
              "18671          NaN  1.712893e+12  workforcenow.adp.com         0  FULL_TIME   \n",
              "18672          NaN  1.713474e+12                   NaN         0  FULL_TIME   \n",
              "18673          NaN  1.713515e+12                   NaN         0  FULL_TIME   \n",
              "18674          NaN  1.713536e+12                   NaN         0  PART_TIME   \n",
              "\n",
              "       currency  compensation_type normalized_salary zip_code     fips  \n",
              "0           NaN                NaN               NaN      NaN      NaN  \n",
              "1           NaN                NaN               NaN      NaN      NaN  \n",
              "2           USD        BASE_SALARY           65000.0      NaN      NaN  \n",
              "3           USD        BASE_SALARY           65000.0      NaN      NaN  \n",
              "4           USD        BASE_SALARY          135000.0  20746.0  24033.0  \n",
              "...         ...                ...               ...      ...      ...  \n",
              "18670       NaN                NaN               NaN      NaN      NaN  \n",
              "18671       NaN                NaN               NaN  48103.0  26161.0  \n",
              "18672       NaN                NaN               NaN      NaN      NaN  \n",
              "18673       NaN                NaN               NaN      NaN      NaN  \n",
              "18674       NaN                NaN               NaN      NaN      NaN  \n",
              "\n",
              "[18675 rows x 33 columns]"
            ]
          },
          "execution_count": 14,
          "metadata": {},
          "output_type": "execute_result"
        }
      ],
      "source": [
        "df_itpos"
      ]
    },
    {
      "cell_type": "markdown",
      "metadata": {
        "id": "LPyILzxi8-HA"
      },
      "source": [
        "**Predicting experience level using description**"
      ]
    },
    {
      "cell_type": "code",
      "execution_count": 15,
      "metadata": {
        "id": "F99NA9wP9BLV"
      },
      "outputs": [],
      "source": [
        "\n",
        "want =  [\"description\",\"formatted_experience_level\"]\n",
        "df = postings_df[want]\n",
        "# Dropping Missing Values\n",
        "df = df.dropna(subset=['formatted_experience_level']).reset_index(drop=True)"
      ]
    },
    {
      "cell_type": "markdown",
      "metadata": {
        "id": "c1NTdUgU9zEI"
      },
      "source": [
        "Modeling using specific features"
      ]
    },
    {
      "cell_type": "code",
      "execution_count": 16,
      "metadata": {
        "id": "8JlTt7v89uFX"
      },
      "outputs": [],
      "source": [
        "def Features(df, column_name):\n",
        "    feature_columns = ['word_cnt', 'sent_cnt', 'vocab_cnt', 'Avg_sent_word_cnt', 'lexical_richness','Readability_index']\n",
        "    feature_data = []\n",
        "\n",
        "    for index, row in df.iterrows():\n",
        "        text = row[column_name]\n",
        "\n",
        "        # Simple features (Word Count, sentence Count, Vocabulary Count, Lexical Diversity)\n",
        "        tokens = nltk.word_tokenize(text)\n",
        "        char_cnt = len(tokens)\n",
        "\n",
        "        words = [w for w in tokens if w.isalpha()]\n",
        "        word_cnt = len(words)\n",
        "\n",
        "        avg_word_length = char_cnt/word_cnt\n",
        "\n",
        "        sents = nltk.sent_tokenize(text)\n",
        "        sent_cnt = len(sents)\n",
        "\n",
        "        avg_sent_length = word_cnt / sent_cnt if sent_cnt > 0 else 0\n",
        "        avg_sent_length = round(avg_sent_length,2)\n",
        "\n",
        "        vocab = set(words)\n",
        "        vocab_cnt = len(vocab)\n",
        "\n",
        "        lex_richness = round(vocab_cnt / word_cnt, 4)\n",
        "\n",
        "        ARI = 4.71*avg_word_length + .5*avg_sent_length - 21.43\n",
        "\n",
        "        # Append the column data\n",
        "        feature_data.append([word_cnt, sent_cnt, vocab_cnt, avg_sent_length, lex_richness ,ARI]) # dropped avg_sent_length\n",
        "\n",
        "    feature_df = pd.DataFrame(feature_data, columns=feature_columns)\n",
        "\n",
        "    # Combine the original DataFrame with the new DataFrame containing features\n",
        "    result_df = pd.concat([df, feature_df], axis=1)\n",
        "\n",
        "    return result_df"
      ]
    },
    {
      "cell_type": "code",
      "execution_count": null,
      "metadata": {
        "id": "DtK71BU198uN"
      },
      "outputs": [],
      "source": []
    },
    {
      "cell_type": "code",
      "execution_count": 17,
      "metadata": {
        "id": "OR89zvXW93Mr"
      },
      "outputs": [],
      "source": [
        "FE_df = Features(df,'description')"
      ]
    },
    {
      "cell_type": "code",
      "execution_count": 18,
      "metadata": {
        "id": "8fhZM06z-Cf1"
      },
      "outputs": [],
      "source": [
        "FE_df['Cust_Service'] = FE_df['description'].apply(lambda x: 1 if 'customer service' in x.lower() else 0)\n",
        "FE_df['diploma_ged'] = FE_df['description'].apply(lambda x: 1 if 'diploma ged' in x.lower() else 0)\n",
        "FE_df['per_hour'] = FE_df['description'].apply(lambda x: 1 if 'per hour' in x.lower() else 0)\n",
        "FE_df['diploma_equiv'] = FE_df['description'].apply(lambda x: 1 if 'diploma equivalent' in x.lower() else 0)\n",
        "FE_df['project_management'] = FE_df['description'].apply(lambda x: 1 if 'project management' in x.lower() else 0)\n",
        "FE_df['cross_functional'] = FE_df['description'].apply(lambda x: 1 if 'cross functional' in x.lower() else 0)\n",
        "FE_df['minimum_years'] = FE_df['description'].apply(lambda x: 1 if 'minimum years' in x.lower() else 0)\n",
        "FE_df['experience_working'] = FE_df['description'].apply(lambda x: 1 if 'experience working' in x.lower() else 0)\n",
        "FE_df['management'] = FE_df['description'].apply(lambda x: 1 if 'management ' in x.lower() else 0)\n",
        "FE_df['track_record'] = FE_df['description'].apply(lambda x: 1 if 'track_record ' in x.lower() else 0)"
      ]
    },
    {
      "cell_type": "code",
      "execution_count": 19,
      "metadata": {
        "id": "R7Nx4mkf-PdA"
      },
      "outputs": [],
      "source": [
        "x_fe = FE_df.drop(['description', 'formatted_experience_level'], axis=1)\n",
        "y_fe = FE_df['formatted_experience_level']"
      ]
    },
    {
      "cell_type": "code",
      "execution_count": 20,
      "metadata": {
        "id": "uSAJmIJa-TOr"
      },
      "outputs": [],
      "source": [
        "X_train2, X_test2, y_train2, y_test2 = train_test_split(x_fe, y_fe, test_size = 0.2, random_state = 1)"
      ]
    },
    {
      "cell_type": "code",
      "execution_count": 21,
      "metadata": {
        "id": "AWUiQb_N-Tfa"
      },
      "outputs": [],
      "source": [
        "from imblearn.over_sampling import RandomOverSampler\n",
        "ros = RandomOverSampler(random_state=42)\n",
        "X_train_resampled, y_train_resampled = ros.fit_resample(X_train2, y_train2)"
      ]
    },
    {
      "cell_type": "code",
      "execution_count": 22,
      "metadata": {
        "id": "oI5Zzz8F-ceq"
      },
      "outputs": [],
      "source": [
        "scaler = MinMaxScaler()\n",
        "X_train_resampled_normalized = scaler.fit_transform(X_train_resampled)\n",
        "X_test2_normalized = scaler.transform(X_test2)\n",
        "\n",
        "X_train_resampled_normalized = pd.DataFrame(X_train_resampled_normalized, columns=X_train2.columns)\n",
        "X_test2_normalized = pd.DataFrame(X_test2_normalized, columns=X_test2.columns)"
      ]
    },
    {
      "cell_type": "markdown",
      "metadata": {
        "id": "inAJT0O_FFVs"
      },
      "source": [
        "Random Forest"
      ]
    },
    {
      "cell_type": "code",
      "execution_count": 28,
      "metadata": {
        "id": "vyaVKI3SFHKn"
      },
      "outputs": [],
      "source": [
        "def objective(trial):\n",
        "    start = time.time()\n",
        "    param_dist = {\n",
        "        'n_estimators': trial.suggest_int('n_estimators', 100, 500),\n",
        "        'max_features': trial.suggest_categorical('max_features', ['sqrt',None]),\n",
        "        'min_samples_split': trial.suggest_int('min_samples_split', 2,20),\n",
        "        'min_samples_leaf': trial.suggest_int('min_samples_leaf', 1,20)\n",
        "    }\n",
        "\n",
        "    rf_fe = RandomForestClassifier(criterion='entropy', random_state=42, n_jobs=-1, **param_dist)\n",
        "    cv_scores = cross_val_score(rf_fe, X_train_resampled_normalized, y_train_resampled, cv=6)\n",
        "    print(f\"Trial {trial.number} took {time.time() - start:.2f} seconds\", flush = True)\n",
        "    return cv_scores.mean()"
      ]
    },
    {
      "cell_type": "code",
      "execution_count": 29,
      "metadata": {
        "colab": {
          "base_uri": "https://localhost:8080/"
        },
        "id": "e7q9FKU1FJfy",
        "outputId": "48c53428-cc4b-40e9-d40b-eebc4f72a3de"
      },
      "outputs": [
        {
          "name": "stderr",
          "output_type": "stream",
          "text": [
            "[I 2025-05-19 22:12:44,899] A new study created in memory with name: no-name-97151914-d440-4bc8-accb-a7ea771910d3\n"
          ]
        },
        {
          "name": "stdout",
          "output_type": "stream",
          "text": [
            "Trial 0 took 232.56 seconds\n"
          ]
        },
        {
          "name": "stderr",
          "output_type": "stream",
          "text": [
            "[I 2025-05-19 22:16:37,464] Trial 0 finished with value: 0.8437540745198335 and parameters: {'n_estimators': 375, 'max_features': None, 'min_samples_split': 13, 'min_samples_leaf': 7}. Best is trial 0 with value: 0.8437540745198335.\n"
          ]
        },
        {
          "name": "stdout",
          "output_type": "stream",
          "text": [
            "Trial 1 took 83.27 seconds\n"
          ]
        },
        {
          "name": "stderr",
          "output_type": "stream",
          "text": [
            "[I 2025-05-19 22:18:00,740] Trial 1 finished with value: 0.7505691790782808 and parameters: {'n_estimators': 414, 'max_features': 'sqrt', 'min_samples_split': 3, 'min_samples_leaf': 19}. Best is trial 0 with value: 0.8437540745198335.\n"
          ]
        },
        {
          "name": "stdout",
          "output_type": "stream",
          "text": [
            "Trial 2 took 175.66 seconds\n"
          ]
        },
        {
          "name": "stderr",
          "output_type": "stream",
          "text": [
            "[I 2025-05-19 22:20:56,401] Trial 2 finished with value: 0.7715109573241062 and parameters: {'n_estimators': 268, 'max_features': None, 'min_samples_split': 18, 'min_samples_leaf': 19}. Best is trial 0 with value: 0.8437540745198335.\n"
          ]
        },
        {
          "name": "stdout",
          "output_type": "stream",
          "text": [
            "Trial 3 took 181.14 seconds\n"
          ]
        },
        {
          "name": "stderr",
          "output_type": "stream",
          "text": [
            "[I 2025-05-19 22:23:57,544] Trial 3 finished with value: 0.8433278170603279 and parameters: {'n_estimators': 231, 'max_features': None, 'min_samples_split': 20, 'min_samples_leaf': 4}. Best is trial 0 with value: 0.8437540745198335.\n"
          ]
        },
        {
          "name": "stdout",
          "output_type": "stream",
          "text": [
            "Trial 4 took 311.85 seconds\n"
          ]
        },
        {
          "name": "stderr",
          "output_type": "stream",
          "text": [
            "[I 2025-05-19 22:29:09,392] Trial 4 finished with value: 0.843016899854571 and parameters: {'n_estimators': 459, 'max_features': None, 'min_samples_split': 15, 'min_samples_leaf': 7}. Best is trial 0 with value: 0.8437540745198335.\n"
          ]
        }
      ],
      "source": [
        "start_time = time.time() # record time\n",
        "study_rf = optuna.create_study(direction='maximize')\n",
        "study_rf.optimize(objective, n_trials=5)\n",
        "end_time = time.time() # record time"
      ]
    },
    {
      "cell_type": "code",
      "execution_count": 30,
      "metadata": {
        "colab": {
          "base_uri": "https://localhost:8080/"
        },
        "id": "YAW7kd8CFK9t",
        "outputId": "775ebce7-fdd4-4406-d818-812e334e9bfc"
      },
      "outputs": [
        {
          "name": "stdout",
          "output_type": "stream",
          "text": [
            "Training Duration: 984.4981782436371 Seconds\n",
            "Best Hyperparameters: {'n_estimators': 375, 'max_features': None, 'min_samples_split': 13, 'min_samples_leaf': 7}\n",
            "10-Fold Cross-Validation Accuracy: 0.8437540745198335\n"
          ]
        }
      ],
      "source": [
        "#Computing Training Duration\n",
        "rf_fe_tt = end_time - start_time\n",
        "print(f\"Training Duration: {rf_fe_tt} Seconds\")\n",
        "print(\"Best Hyperparameters:\", study_rf.best_trial.params)\n",
        "mean_acc_rffe = study_rf.best_value\n",
        "print(f\"10-Fold Cross-Validation Accuracy: {mean_acc_rffe}\")"
      ]
    },
    {
      "cell_type": "code",
      "execution_count": 31,
      "metadata": {
        "colab": {
          "base_uri": "https://localhost:8080/"
        },
        "id": "mttL5bkRFM5i",
        "outputId": "fc3f7b51-c21b-47bb-aee3-a73ef063d941"
      },
      "outputs": [
        {
          "name": "stdout",
          "output_type": "stream",
          "text": [
            "Test Accuracy: 54.12%\n"
          ]
        }
      ],
      "source": [
        "# Best model from hyperparameter tuning\n",
        "rf_fe = RandomForestClassifier(criterion='entropy', random_state=42, **study_rf.best_trial.params)\n",
        "rf_fe.fit(X_train_resampled_normalized, y_train_resampled)\n",
        "\n",
        "# Predict on train and test datasets\n",
        "y_test_pred_rffe = rf_fe.predict(X_test2_normalized)\n",
        "\n",
        "#Test Accuracy\n",
        "test_acc_rffe = accuracy_score(y_test2, y_test_pred_rffe)\n",
        "print(f\"Test Accuracy: {test_acc_rffe:.2%}\")"
      ]
    },
    {
      "cell_type": "code",
      "execution_count": 34,
      "metadata": {
        "colab": {
          "base_uri": "https://localhost:8080/",
          "height": 211
        },
        "id": "W0OBR70UFQCC",
        "outputId": "ab4c6a72-8567-4cd4-e58c-a6bd06e89614"
      },
      "outputs": [
        {
          "name": "stdout",
          "output_type": "stream",
          "text": [
            "AUC Score for Associate: 75.22%\n",
            "AUC Score for Director: 75.36%\n",
            "AUC Score for Entry level: 78.18%\n",
            "AUC Score for Executive: 68.84%\n",
            "AUC Score for Internship: 72.75%\n",
            "AUC Score for Mid-Senior level: 71.56%\n"
          ]
        }
      ],
      "source": [
        "# Compute test probabilities, false positive rate, true positive rate, and auc\n",
        "# Compute test probabilities for each class\n",
        "y_test_prob_gbmfe = rf_fe.predict_proba(X_test2_normalized)\n",
        "\n",
        "# Compute ROC curve and AUC for each class\n",
        "fpr_gbmfe = {}\n",
        "tpr_gbmfe = {}\n",
        "threshold_gbmfe = {}\n",
        "auc_score_gbmfe = {}\n",
        "\n",
        "for i, class_name in enumerate(rf_fe.classes_):\n",
        "    fpr_gbmfe[class_name], tpr_gbmfe[class_name], threshold_gbmfe[class_name] = roc_curve(\n",
        "        (y_test2 == class_name).astype(int), y_test_prob_gbmfe[:, i]\n",
        "    )\n",
        "    auc_score_gbmfe[class_name] = roc_auc_score(\n",
        "        (y_test2 == class_name).astype(int), y_test_prob_gbmfe[:, i]\n",
        "    )\n",
        "\n",
        "# Print AUC for each class\n",
        "for class_name, auc in auc_score_gbmfe.items():\n",
        "    print(f\"AUC Score for {class_name}: {auc:.2%}\")\n"
      ]
    },
    {
      "cell_type": "markdown",
      "metadata": {
        "id": "90JJNGAmDIKN"
      },
      "source": []
    },
    {
      "cell_type": "code",
      "execution_count": 35,
      "metadata": {
        "id": "cs_oFQyFFReL"
      },
      "outputs": [
        {
          "name": "stdout",
          "output_type": "stream",
          "text": [
            "Feature Importance:\n",
            "lexical_richness      0.251102\n",
            "Readability_index     0.166775\n",
            "Avg_sent_word_cnt     0.145518\n",
            "vocab_cnt             0.145311\n",
            "word_cnt              0.139790\n",
            "sent_cnt              0.071819\n",
            "management            0.026148\n",
            "Cust_Service          0.017076\n",
            "experience_working    0.011305\n",
            "project_management    0.011267\n",
            "per_hour              0.007935\n",
            "cross_functional      0.005436\n",
            "minimum_years         0.000516\n",
            "diploma_ged           0.000000\n",
            "diploma_equiv         0.000000\n",
            "track_record          0.000000\n",
            "dtype: float64\n"
          ]
        }
      ],
      "source": [
        "# Feature Importance\n",
        "feature_importances = pd.Series(rf_fe.feature_importances_, index=X_train_resampled_normalized.columns)\n",
        "print(\"Feature Importance:\")\n",
        "print(feature_importances.sort_values(ascending=False))"
      ]
    },
    {
      "cell_type": "markdown",
      "metadata": {
        "id": "L1l-OevyDJT5"
      },
      "source": []
    },
    {
      "cell_type": "code",
      "execution_count": 36,
      "metadata": {
        "id": "G2ALxkoRFS9-"
      },
      "outputs": [
        {
          "data": {
            "image/png": "[encoded data removed]",
            "text/plain": [
              "<Figure size 1200x600 with 2 Axes>"
            ]
          },
          "metadata": {},
          "output_type": "display_data"
        }
      ],
      "source": [
        "# Compute confusion matrices\n",
        "y_train_pred_rffe = rf_fe.predict(X_train_resampled_normalized)\n",
        "conf_matrix_train_rffe = confusion_matrix(y_train_resampled, y_train_pred_rffe)\n",
        "conf_matrix_test_rffe = confusion_matrix(y_test2, y_test_pred_rffe)\n",
        "\n",
        "fig, axes = plt.subplots(1, 2, figsize=(12, 6))\n",
        "# First heatmap for Train Set\n",
        "sns.heatmap(conf_matrix_train_rffe, annot=True, fmt='d', cmap='Blues', square=True,cbar=False,\n",
        "            xticklabels=['Negative', 'Positive'], yticklabels=[ 'Negative','Positive'], ax=axes[0])\n",
        "axes[0].set_xlabel('Predicted')\n",
        "axes[0].set_ylabel('Actual')\n",
        "axes[0].set_title('Confusion Matrix\\nTrain Set: Featured Engineered Random Forest Model')\n",
        "\n",
        "# Second heatmap for Test Set\n",
        "sns.heatmap(conf_matrix_test_rffe, annot=True, fmt='d', cmap='Blues', square=True,cbar=False,\n",
        "            xticklabels=['Negative', 'Positive'], yticklabels=[ 'Negative','Positive'], ax=axes[1])\n",
        "axes[1].set_xlabel('Predicted')\n",
        "axes[1].set_ylabel('Actual')\n",
        "axes[1].set_title('Confusion Matrix\\nTest Set: Featured Engineered Random Forest Model');"
      ]
    },
    {
      "cell_type": "markdown",
      "metadata": {
        "id": "zZQX2C8G-nAR"
      },
      "source": [
        "**Gradient Boost**"
      ]
    },
    {
      "cell_type": "markdown",
      "metadata": {
        "id": "KIH2JC44DK6m"
      },
      "source": []
    },
    {
      "cell_type": "code",
      "execution_count": 39,
      "metadata": {
        "id": "k4pyiSOn-eFC"
      },
      "outputs": [],
      "source": [
        "from sklearn.ensemble import GradientBoostingClassifier\n",
        "def objective(trial):\n",
        "    start = time.time()\n",
        "    param_dist = {\n",
        "        'n_estimators': trial.suggest_int('n_estimators', 50, 500),\n",
        "        'learning_rate': trial.suggest_float('learning_rate', 0.01, 0.3),\n",
        "        'max_depth': trial.suggest_int('max_depth', 3, 10),\n",
        "        'subsample': trial.suggest_float('subsample', 0.5, 1.0),\n",
        "        'min_samples_split': trial.suggest_int('min_samples_split', 2, 20),\n",
        "        'min_samples_leaf': trial.suggest_int('min_samples_leaf', 1, 20)\n",
        "    }\n",
        "\n",
        "    gbm = GradientBoostingClassifier(random_state=42, **param_dist)\n",
        "    cv_scores = cross_val_score(rf_fe, X_train_resampled, y_train_resampled, cv=6)\n",
        "    print(f\"Trial {trial.number} took {time.time() - start:.2f} seconds\", flush = True)\n",
        "    return cv_scores.mean()"
      ]
    },
    {
      "cell_type": "code",
      "execution_count": null,
      "metadata": {
        "colab": {
          "background_save": true,
          "base_uri": "https://localhost:8080/"
        },
        "id": "eLFKWkJM-wsc",
        "outputId": "ee37dc73-91f2-4054-95a4-84b48d70b2ac"
      },
      "outputs": [
        {
          "name": "stderr",
          "output_type": "stream",
          "text": [
            "[I 2025-05-19 22:47:14,749] A new study created in memory with name: no-name-f99ac7c4-00e9-4729-bf44-b12db101e8e2\n"
          ]
        }
      ],
      "source": [
        "start_time = time.time()\n",
        "study_gbm = optuna.create_study(direction='maximize')\n",
        "study_gbm.optimize(objective, n_trials=5)\n",
        "end_time = time.time()"
      ]
    },
    {
      "cell_type": "code",
      "execution_count": null,
      "metadata": {
        "colab": {
          "background_save": true
        },
        "id": "e7VH6I29-zCJ",
        "outputId": "0220a966-8e79-46b3-a780-611139b0145d"
      },
      "outputs": [
        {
          "name": "stdout",
          "output_type": "stream",
          "text": [
            "Training Duration: 1923.2487847805023 Seconds\n",
            "Best Hyperparameters: {'n_estimators': 64, 'learning_rate': 0.21830633614519823, 'max_depth': 9, 'subsample': 0.6710041648698004, 'min_samples_split': 14, 'min_samples_leaf': 2}\n",
            "10-Fold Cross-Validation Accuracy: 0.5864303739908999\n"
          ]
        }
      ],
      "source": [
        "gbm_fe_tt = end_time - start_time # Tuning Duration\n",
        "print(f\"Training Duration: {gbm_fe_tt} Seconds\")\n",
        "print(\"Best Hyperparameters:\", study_gbm.best_trial.params)\n",
        "mean_acc_gbmfe = study_gbm.best_value\n",
        "print(f\"10-Fold Cross-Validation Accuracy: {mean_acc_gbmfe}\")"
      ]
    },
    {
      "cell_type": "code",
      "execution_count": null,
      "metadata": {
        "colab": {
          "background_save": true
        },
        "id": "XOkpaqvc-0iw",
        "outputId": "4ed7bb73-c03f-4f68-f1f2-a5d4de0a9164"
      },
      "outputs": [
        {
          "data": {
            "text/html": [
              "<style>#sk-container-id-1 {\n",
              "  /* Definition of color scheme common for light and dark mode */\n",
              "  --sklearn-color-text: #000;\n",
              "  --sklearn-color-text-muted: #666;\n",
              "  --sklearn-color-line: gray;\n",
              "  /* Definition of color scheme for unfitted estimators */\n",
              "  --sklearn-color-unfitted-level-0: #fff5e6;\n",
              "  --sklearn-color-unfitted-level-1: #f6e4d2;\n",
              "  --sklearn-color-unfitted-level-2: #ffe0b3;\n",
              "  --sklearn-color-unfitted-level-3: chocolate;\n",
              "  /* Definition of color scheme for fitted estimators */\n",
              "  --sklearn-color-fitted-level-0: #f0f8ff;\n",
              "  --sklearn-color-fitted-level-1: #d4ebff;\n",
              "  --sklearn-color-fitted-level-2: #b3dbfd;\n",
              "  --sklearn-color-fitted-level-3: cornflowerblue;\n",
              "\n",
              "  /* Specific color for light theme */\n",
              "  --sklearn-color-text-on-default-background: var(--sg-text-color, var(--theme-code-foreground, var(--jp-content-font-color1, black)));\n",
              "  --sklearn-color-background: var(--sg-background-color, var(--theme-background, var(--jp-layout-color0, white)));\n",
              "  --sklearn-color-border-box: var(--sg-text-color, var(--theme-code-foreground, var(--jp-content-font-color1, black)));\n",
              "  --sklearn-color-icon: #696969;\n",
              "\n",
              "  @media (prefers-color-scheme: dark) {\n",
              "    /* Redefinition of color scheme for dark theme */\n",
              "    --sklearn-color-text-on-default-background: var(--sg-text-color, var(--theme-code-foreground, var(--jp-content-font-color1, white)));\n",
              "    --sklearn-color-background: var(--sg-background-color, var(--theme-background, var(--jp-layout-color0, #111)));\n",
              "    --sklearn-color-border-box: var(--sg-text-color, var(--theme-code-foreground, var(--jp-content-font-color1, white)));\n",
              "    --sklearn-color-icon: #878787;\n",
              "  }\n",
              "}\n",
              "\n",
              "#sk-container-id-1 {\n",
              "  color: var(--sklearn-color-text);\n",
              "}\n",
              "\n",
              "#sk-container-id-1 pre {\n",
              "  padding: 0;\n",
              "}\n",
              "\n",
              "#sk-container-id-1 input.sk-hidden--visually {\n",
              "  border: 0;\n",
              "  clip: rect(1px 1px 1px 1px);\n",
              "  clip: rect(1px, 1px, 1px, 1px);\n",
              "  height: 1px;\n",
              "  margin: -1px;\n",
              "  overflow: hidden;\n",
              "  padding: 0;\n",
              "  position: absolute;\n",
              "  width: 1px;\n",
              "}\n",
              "\n",
              "#sk-container-id-1 div.sk-dashed-wrapped {\n",
              "  border: 1px dashed var(--sklearn-color-line);\n",
              "  margin: 0 0.4em 0.5em 0.4em;\n",
              "  box-sizing: border-box;\n",
              "  padding-bottom: 0.4em;\n",
              "  background-color: var(--sklearn-color-background);\n",
              "}\n",
              "\n",
              "#sk-container-id-1 div.sk-container {\n",
              "  /* jupyter's `normalize.less` sets `[hidden] { display: none; }`\n",
              "     but bootstrap.min.css set `[hidden] { display: none !important; }`\n",
              "     so we also need the `!important` here to be able to override the\n",
              "     default hidden behavior on the sphinx rendered scikit-learn.org.\n",
              "     See: https://github.com/scikit-learn/scikit-learn/issues/21755 */\n",
              "  display: inline-block !important;\n",
              "  position: relative;\n",
              "}\n",
              "\n",
              "#sk-container-id-1 div.sk-text-repr-fallback {\n",
              "  display: none;\n",
              "}\n",
              "\n",
              "div.sk-parallel-item,\n",
              "div.sk-serial,\n",
              "div.sk-item {\n",
              "  /* draw centered vertical line to link estimators */\n",
              "  background-image: linear-gradient(var(--sklearn-color-text-on-default-background), var(--sklearn-color-text-on-default-background));\n",
              "  background-size: 2px 100%;\n",
              "  background-repeat: no-repeat;\n",
              "  background-position: center center;\n",
              "}\n",
              "\n",
              "/* Parallel-specific style estimator block */\n",
              "\n",
              "#sk-container-id-1 div.sk-parallel-item::after {\n",
              "  content: \"\";\n",
              "  width: 100%;\n",
              "  border-bottom: 2px solid var(--sklearn-color-text-on-default-background);\n",
              "  flex-grow: 1;\n",
              "}\n",
              "\n",
              "#sk-container-id-1 div.sk-parallel {\n",
              "  display: flex;\n",
              "  align-items: stretch;\n",
              "  justify-content: center;\n",
              "  background-color: var(--sklearn-color-background);\n",
              "  position: relative;\n",
              "}\n",
              "\n",
              "#sk-container-id-1 div.sk-parallel-item {\n",
              "  display: flex;\n",
              "  flex-direction: column;\n",
              "}\n",
              "\n",
              "#sk-container-id-1 div.sk-parallel-item:first-child::after {\n",
              "  align-self: flex-end;\n",
              "  width: 50%;\n",
              "}\n",
              "\n",
              "#sk-container-id-1 div.sk-parallel-item:last-child::after {\n",
              "  align-self: flex-start;\n",
              "  width: 50%;\n",
              "}\n",
              "\n",
              "#sk-container-id-1 div.sk-parallel-item:only-child::after {\n",
              "  width: 0;\n",
              "}\n",
              "\n",
              "/* Serial-specific style estimator block */\n",
              "\n",
              "#sk-container-id-1 div.sk-serial {\n",
              "  display: flex;\n",
              "  flex-direction: column;\n",
              "  align-items: center;\n",
              "  background-color: var(--sklearn-color-background);\n",
              "  padding-right: 1em;\n",
              "  padding-left: 1em;\n",
              "}\n",
              "\n",
              "\n",
              "/* Toggleable style: style used for estimator/Pipeline/ColumnTransformer box that is\n",
              "clickable and can be expanded/collapsed.\n",
              "- Pipeline and ColumnTransformer use this feature and define the default style\n",
              "- Estimators will overwrite some part of the style using the `sk-estimator` class\n",
              "*/\n",
              "\n",
              "/* Pipeline and ColumnTransformer style (default) */\n",
              "\n",
              "#sk-container-id-1 div.sk-toggleable {\n",
              "  /* Default theme specific background. It is overwritten whether we have a\n",
              "  specific estimator or a Pipeline/ColumnTransformer */\n",
              "  background-color: var(--sklearn-color-background);\n",
              "}\n",
              "\n",
              "/* Toggleable label */\n",
              "#sk-container-id-1 label.sk-toggleable__label {\n",
              "  cursor: pointer;\n",
              "  display: flex;\n",
              "  width: 100%;\n",
              "  margin-bottom: 0;\n",
              "  padding: 0.5em;\n",
              "  box-sizing: border-box;\n",
              "  text-align: center;\n",
              "  align-items: start;\n",
              "  justify-content: space-between;\n",
              "  gap: 0.5em;\n",
              "}\n",
              "\n",
              "#sk-container-id-1 label.sk-toggleable__label .caption {\n",
              "  font-size: 0.6rem;\n",
              "  font-weight: lighter;\n",
              "  color: var(--sklearn-color-text-muted);\n",
              "}\n",
              "\n",
              "#sk-container-id-1 label.sk-toggleable__label-arrow:before {\n",
              "  /* Arrow on the left of the label */\n",
              "  content: \"▸\";\n",
              "  float: left;\n",
              "  margin-right: 0.25em;\n",
              "  color: var(--sklearn-color-icon);\n",
              "}\n",
              "\n",
              "#sk-container-id-1 label.sk-toggleable__label-arrow:hover:before {\n",
              "  color: var(--sklearn-color-text);\n",
              "}\n",
              "\n",
              "/* Toggleable content - dropdown */\n",
              "\n",
              "#sk-container-id-1 div.sk-toggleable__content {\n",
              "  max-height: 0;\n",
              "  max-width: 0;\n",
              "  overflow: hidden;\n",
              "  text-align: left;\n",
              "  /* unfitted */\n",
              "  background-color: var(--sklearn-color-unfitted-level-0);\n",
              "}\n",
              "\n",
              "#sk-container-id-1 div.sk-toggleable__content.fitted {\n",
              "  /* fitted */\n",
              "  background-color: var(--sklearn-color-fitted-level-0);\n",
              "}\n",
              "\n",
              "#sk-container-id-1 div.sk-toggleable__content pre {\n",
              "  margin: 0.2em;\n",
              "  border-radius: 0.25em;\n",
              "  color: var(--sklearn-color-text);\n",
              "  /* unfitted */\n",
              "  background-color: var(--sklearn-color-unfitted-level-0);\n",
              "}\n",
              "\n",
              "#sk-container-id-1 div.sk-toggleable__content.fitted pre {\n",
              "  /* unfitted */\n",
              "  background-color: var(--sklearn-color-fitted-level-0);\n",
              "}\n",
              "\n",
              "#sk-container-id-1 input.sk-toggleable__control:checked~div.sk-toggleable__content {\n",
              "  /* Expand drop-down */\n",
              "  max-height: 200px;\n",
              "  max-width: 100%;\n",
              "  overflow: auto;\n",
              "}\n",
              "\n",
              "#sk-container-id-1 input.sk-toggleable__control:checked~label.sk-toggleable__label-arrow:before {\n",
              "  content: \"▾\";\n",
              "}\n",
              "\n",
              "/* Pipeline/ColumnTransformer-specific style */\n",
              "\n",
              "#sk-container-id-1 div.sk-label input.sk-toggleable__control:checked~label.sk-toggleable__label {\n",
              "  color: var(--sklearn-color-text);\n",
              "  background-color: var(--sklearn-color-unfitted-level-2);\n",
              "}\n",
              "\n",
              "#sk-container-id-1 div.sk-label.fitted input.sk-toggleable__control:checked~label.sk-toggleable__label {\n",
              "  background-color: var(--sklearn-color-fitted-level-2);\n",
              "}\n",
              "\n",
              "/* Estimator-specific style */\n",
              "\n",
              "/* Colorize estimator box */\n",
              "#sk-container-id-1 div.sk-estimator input.sk-toggleable__control:checked~label.sk-toggleable__label {\n",
              "  /* unfitted */\n",
              "  background-color: var(--sklearn-color-unfitted-level-2);\n",
              "}\n",
              "\n",
              "#sk-container-id-1 div.sk-estimator.fitted input.sk-toggleable__control:checked~label.sk-toggleable__label {\n",
              "  /* fitted */\n",
              "  background-color: var(--sklearn-color-fitted-level-2);\n",
              "}\n",
              "\n",
              "#sk-container-id-1 div.sk-label label.sk-toggleable__label,\n",
              "#sk-container-id-1 div.sk-label label {\n",
              "  /* The background is the default theme color */\n",
              "  color: var(--sklearn-color-text-on-default-background);\n",
              "}\n",
              "\n",
              "/* On hover, darken the color of the background */\n",
              "#sk-container-id-1 div.sk-label:hover label.sk-toggleable__label {\n",
              "  color: var(--sklearn-color-text);\n",
              "  background-color: var(--sklearn-color-unfitted-level-2);\n",
              "}\n",
              "\n",
              "/* Label box, darken color on hover, fitted */\n",
              "#sk-container-id-1 div.sk-label.fitted:hover label.sk-toggleable__label.fitted {\n",
              "  color: var(--sklearn-color-text);\n",
              "  background-color: var(--sklearn-color-fitted-level-2);\n",
              "}\n",
              "\n",
              "/* Estimator label */\n",
              "\n",
              "#sk-container-id-1 div.sk-label label {\n",
              "  font-family: monospace;\n",
              "  font-weight: bold;\n",
              "  display: inline-block;\n",
              "  line-height: 1.2em;\n",
              "}\n",
              "\n",
              "#sk-container-id-1 div.sk-label-container {\n",
              "  text-align: center;\n",
              "}\n",
              "\n",
              "/* Estimator-specific */\n",
              "#sk-container-id-1 div.sk-estimator {\n",
              "  font-family: monospace;\n",
              "  border: 1px dotted var(--sklearn-color-border-box);\n",
              "  border-radius: 0.25em;\n",
              "  box-sizing: border-box;\n",
              "  margin-bottom: 0.5em;\n",
              "  /* unfitted */\n",
              "  background-color: var(--sklearn-color-unfitted-level-0);\n",
              "}\n",
              "\n",
              "#sk-container-id-1 div.sk-estimator.fitted {\n",
              "  /* fitted */\n",
              "  background-color: var(--sklearn-color-fitted-level-0);\n",
              "}\n",
              "\n",
              "/* on hover */\n",
              "#sk-container-id-1 div.sk-estimator:hover {\n",
              "  /* unfitted */\n",
              "  background-color: var(--sklearn-color-unfitted-level-2);\n",
              "}\n",
              "\n",
              "#sk-container-id-1 div.sk-estimator.fitted:hover {\n",
              "  /* fitted */\n",
              "  background-color: var(--sklearn-color-fitted-level-2);\n",
              "}\n",
              "\n",
              "/* Specification for estimator info (e.g. \"i\" and \"?\") */\n",
              "\n",
              "/* Common style for \"i\" and \"?\" */\n",
              "\n",
              ".sk-estimator-doc-link,\n",
              "a:link.sk-estimator-doc-link,\n",
              "a:visited.sk-estimator-doc-link {\n",
              "  float: right;\n",
              "  font-size: smaller;\n",
              "  line-height: 1em;\n",
              "  font-family: monospace;\n",
              "  background-color: var(--sklearn-color-background);\n",
              "  border-radius: 1em;\n",
              "  height: 1em;\n",
              "  width: 1em;\n",
              "  text-decoration: none !important;\n",
              "  margin-left: 0.5em;\n",
              "  text-align: center;\n",
              "  /* unfitted */\n",
              "  border: var(--sklearn-color-unfitted-level-1) 1pt solid;\n",
              "  color: var(--sklearn-color-unfitted-level-1);\n",
              "}\n",
              "\n",
              ".sk-estimator-doc-link.fitted,\n",
              "a:link.sk-estimator-doc-link.fitted,\n",
              "a:visited.sk-estimator-doc-link.fitted {\n",
              "  /* fitted */\n",
              "  border: var(--sklearn-color-fitted-level-1) 1pt solid;\n",
              "  color: var(--sklearn-color-fitted-level-1);\n",
              "}\n",
              "\n",
              "/* On hover */\n",
              "div.sk-estimator:hover .sk-estimator-doc-link:hover,\n",
              ".sk-estimator-doc-link:hover,\n",
              "div.sk-label-container:hover .sk-estimator-doc-link:hover,\n",
              ".sk-estimator-doc-link:hover {\n",
              "  /* unfitted */\n",
              "  background-color: var(--sklearn-color-unfitted-level-3);\n",
              "  color: var(--sklearn-color-background);\n",
              "  text-decoration: none;\n",
              "}\n",
              "\n",
              "div.sk-estimator.fitted:hover .sk-estimator-doc-link.fitted:hover,\n",
              ".sk-estimator-doc-link.fitted:hover,\n",
              "div.sk-label-container:hover .sk-estimator-doc-link.fitted:hover,\n",
              ".sk-estimator-doc-link.fitted:hover {\n",
              "  /* fitted */\n",
              "  background-color: var(--sklearn-color-fitted-level-3);\n",
              "  color: var(--sklearn-color-background);\n",
              "  text-decoration: none;\n",
              "}\n",
              "\n",
              "/* Span, style for the box shown on hovering the info icon */\n",
              ".sk-estimator-doc-link span {\n",
              "  display: none;\n",
              "  z-index: 9999;\n",
              "  position: relative;\n",
              "  font-weight: normal;\n",
              "  right: .2ex;\n",
              "  padding: .5ex;\n",
              "  margin: .5ex;\n",
              "  width: min-content;\n",
              "  min-width: 20ex;\n",
              "  max-width: 50ex;\n",
              "  color: var(--sklearn-color-text);\n",
              "  box-shadow: 2pt 2pt 4pt #999;\n",
              "  /* unfitted */\n",
              "  background: var(--sklearn-color-unfitted-level-0);\n",
              "  border: .5pt solid var(--sklearn-color-unfitted-level-3);\n",
              "}\n",
              "\n",
              ".sk-estimator-doc-link.fitted span {\n",
              "  /* fitted */\n",
              "  background: var(--sklearn-color-fitted-level-0);\n",
              "  border: var(--sklearn-color-fitted-level-3);\n",
              "}\n",
              "\n",
              ".sk-estimator-doc-link:hover span {\n",
              "  display: block;\n",
              "}\n",
              "\n",
              "/* \"?\"-specific style due to the `<a>` HTML tag */\n",
              "\n",
              "#sk-container-id-1 a.estimator_doc_link {\n",
              "  float: right;\n",
              "  font-size: 1rem;\n",
              "  line-height: 1em;\n",
              "  font-family: monospace;\n",
              "  background-color: var(--sklearn-color-background);\n",
              "  border-radius: 1rem;\n",
              "  height: 1rem;\n",
              "  width: 1rem;\n",
              "  text-decoration: none;\n",
              "  /* unfitted */\n",
              "  color: var(--sklearn-color-unfitted-level-1);\n",
              "  border: var(--sklearn-color-unfitted-level-1) 1pt solid;\n",
              "}\n",
              "\n",
              "#sk-container-id-1 a.estimator_doc_link.fitted {\n",
              "  /* fitted */\n",
              "  border: var(--sklearn-color-fitted-level-1) 1pt solid;\n",
              "  color: var(--sklearn-color-fitted-level-1);\n",
              "}\n",
              "\n",
              "/* On hover */\n",
              "#sk-container-id-1 a.estimator_doc_link:hover {\n",
              "  /* unfitted */\n",
              "  background-color: var(--sklearn-color-unfitted-level-3);\n",
              "  color: var(--sklearn-color-background);\n",
              "  text-decoration: none;\n",
              "}\n",
              "\n",
              "#sk-container-id-1 a.estimator_doc_link.fitted:hover {\n",
              "  /* fitted */\n",
              "  background-color: var(--sklearn-color-fitted-level-3);\n",
              "}\n",
              "</style><div id=\"sk-container-id-1\" class=\"sk-top-container\"><div class=\"sk-text-repr-fallback\"><pre>GradientBoostingClassifier(learning_rate=0.21830633614519823, max_depth=9,\n",
              "                           min_samples_leaf=2, min_samples_split=14,\n",
              "                           n_estimators=64, random_state=42,\n",
              "                           subsample=0.6710041648698004)</pre><b>In a Jupyter environment, please rerun this cell to show the HTML representation or trust the notebook. <br />On GitHub, the HTML representation is unable to render, please try loading this page with nbviewer.org.</b></div><div class=\"sk-container\" hidden><div class=\"sk-item\"><div class=\"sk-estimator fitted sk-toggleable\"><input class=\"sk-toggleable__control sk-hidden--visually\" id=\"sk-estimator-id-1\" type=\"checkbox\" checked><label for=\"sk-estimator-id-1\" class=\"sk-toggleable__label fitted sk-toggleable__label-arrow\"><div><div>GradientBoostingClassifier</div></div><div><a class=\"sk-estimator-doc-link fitted\" rel=\"noreferrer\" target=\"_blank\" href=\"https://scikit-learn.org/1.6/modules/generated/sklearn.ensemble.GradientBoostingClassifier.html\">?<span>Documentation for GradientBoostingClassifier</span></a><span class=\"sk-estimator-doc-link fitted\">i<span>Fitted</span></span></div></label><div class=\"sk-toggleable__content fitted\"><pre>GradientBoostingClassifier(learning_rate=0.21830633614519823, max_depth=9,\n",
              "                           min_samples_leaf=2, min_samples_split=14,\n",
              "                           n_estimators=64, random_state=42,\n",
              "                           subsample=0.6710041648698004)</pre></div> </div></div></div></div>"
            ],
            "text/plain": [
              "GradientBoostingClassifier(learning_rate=0.21830633614519823, max_depth=9,\n",
              "                           min_samples_leaf=2, min_samples_split=14,\n",
              "                           n_estimators=64, random_state=42,\n",
              "                           subsample=0.6710041648698004)"
            ]
          },
          "execution_count": 32,
          "metadata": {},
          "output_type": "execute_result"
        }
      ],
      "source": [
        "# Best model from hyperparameter tuning\n",
        "gbm_fe = GradientBoostingClassifier(random_state=42, **study_gbm.best_trial.params)\n",
        "gbm_fe.fit(X_train_resampled_normalized, y_train_resampled)"
      ]
    },
    {
      "cell_type": "code",
      "execution_count": null,
      "metadata": {
        "colab": {
          "background_save": true
        },
        "id": "l5dlVjlS-17t",
        "outputId": "806248c0-e9c1-46ff-ab25-423bc0a883d3"
      },
      "outputs": [
        {
          "name": "stdout",
          "output_type": "stream",
          "text": [
            "Test Accuracy: 50.59%\n",
            "Precision per class: [0.25969125 0.16375405 0.63432731 0.1308204  0.13250883 0.61917677]\n",
            "Recall per class: [0.39243131 0.334214   0.60737265 0.24380165 0.30487805 0.47019627]\n",
            "F1-Score per class: [0.31255161 0.21980886 0.62055742 0.17027417 0.18472906 0.53449938]\n",
            "Weighted Precision: 55.76%\n",
            "Weighted Recall: 50.59%\n",
            "Weighted F1-Score: 52.40%\n",
            "AUC Score (OVR): 73.31%\n"
          ]
        }
      ],
      "source": [
        "# For multiclass classification\n",
        "from sklearn.metrics import accuracy_score, precision_recall_fscore_support, roc_auc_score\n",
        "\n",
        "# Predict class labels\n",
        "y_test_pred_gbmfe = gbm_fe.predict(X_test2_normalized)\n",
        "test_acc_gbmfe = accuracy_score(y_test2, y_test_pred_gbmfe)\n",
        "print(f\"Test Accuracy: {test_acc_gbmfe:.2%}\")\n",
        "\n",
        "# Get precision, recall, and F1 for all classes\n",
        "precision_gbmfe, recall_gbmfe, f1_gbmfe, _ = precision_recall_fscore_support(y_test2, y_test_pred_gbmfe, average=None)\n",
        "print(f\"Precision per class: {precision_gbmfe}\")\n",
        "print(f\"Recall per class: {recall_gbmfe}\")\n",
        "print(f\"F1-Score per class: {f1_gbmfe}\")\n",
        "\n",
        "# For average metrics across all classes\n",
        "precision_avg, recall_avg, f1_avg, _ = precision_recall_fscore_support(y_test2, y_test_pred_gbmfe, average='weighted')\n",
        "print(f\"Weighted Precision: {precision_avg:.2%}\")\n",
        "print(f\"Weighted Recall: {recall_avg:.2%}\")\n",
        "print(f\"Weighted F1-Score: {f1_avg:.2%}\")\n",
        "\n",
        "# For multiclass ROC AUC\n",
        "y_test_prob_gbmfe = gbm_fe.predict_proba(X_test2_normalized)\n",
        "auc_score_gbmfe = roc_auc_score(y_test2, y_test_prob_gbmfe, multi_class='ovr')\n",
        "print(f\"AUC Score (OVR): {auc_score_gbmfe:.2%}\")"
      ]
    },
    {
      "cell_type": "code",
      "execution_count": null,
      "metadata": {
        "colab": {
          "background_save": true
        },
        "id": "Zr4hbfzS-3nT",
        "outputId": "890094f4-6a25-4e12-d089-45978da14bc4"
      },
      "outputs": [
        {
          "name": "stdout",
          "output_type": "stream",
          "text": [
            "Feature Importance:\n",
            "lexical_richness      0.225806\n",
            "Readability_index     0.200690\n",
            "Avg_sent_word_cnt     0.147861\n",
            "vocab_cnt             0.137541\n",
            "word_cnt              0.133871\n",
            "sent_cnt              0.057369\n",
            "management            0.036854\n",
            "Cust_Service          0.021397\n",
            "project_management    0.011349\n",
            "experience_working    0.010979\n",
            "per_hour              0.008487\n",
            "cross_functional      0.006350\n",
            "minimum_years         0.001417\n",
            "diploma_ged           0.000027\n",
            "diploma_equiv         0.000000\n",
            "track_record          0.000000\n",
            "dtype: float64\n"
          ]
        }
      ],
      "source": [
        "# Feature Importance\n",
        "feature_importances_gbmfe = pd.Series(gbm_fe.feature_importances_, index=X_train_resampled_normalized.columns)\n",
        "print(\"Feature Importance:\")\n",
        "print(feature_importances_gbmfe.sort_values(ascending=False))"
      ]
    },
    {
      "cell_type": "code",
      "execution_count": null,
      "metadata": {
        "colab": {
          "background_save": true
        },
        "id": "QjN6HI_V-5i_",
        "outputId": "3a73d275-3e42-44df-ceb9-47c50f65bab2"
      },
      "outputs": [
        {
          "data": {
            "image/png": "[encoded data removed]",
            "text/plain": [
              "<Figure size 1200x600 with 2 Axes>"
            ]
          },
          "metadata": {},
          "output_type": "display_data"
        }
      ],
      "source": [
        "# Compute confusion matrices\n",
        "y_train_pred_gbmfe = gbm_fe.predict(X_train_resampled_normalized)\n",
        "conf_matrix_train_gbmfe = confusion_matrix(y_train_resampled, y_train_pred_gbmfe)\n",
        "conf_matrix_test_gbmfe = confusion_matrix(y_test2, y_test_pred_gbmfe)\n",
        "\n",
        "fig, axes = plt.subplots(1, 2, figsize=(12, 6))\n",
        "# First heatmap for Train Set\n",
        "sns.heatmap(conf_matrix_train_gbmfe, annot=True, fmt='d', cmap='Blues', square=True, cbar=False,\n",
        "            xticklabels=['Negative', 'Positive'], yticklabels=['Negative', 'Positive'], ax=axes[0])\n",
        "axes[0].set_xlabel('Predicted')\n",
        "axes[0].set_ylabel('Actual')\n",
        "axes[0].set_title('Confusion Matrix\\nTrain Set: GBM Feature Engineered')\n",
        "\n",
        "# Second heatmap for Test Set\n",
        "sns.heatmap(conf_matrix_test_gbmfe, annot=True, fmt='d', cmap='Blues', square=True, cbar=False,\n",
        "            xticklabels=['Negative', 'Positive'], yticklabels=['Negative', 'Positive'], ax=axes[1])\n",
        "axes[1].set_xlabel('Predicted')\n",
        "axes[1].set_ylabel('Actual')\n",
        "axes[1].set_title('Confusion Matrix\\nTest Set: GBM Feature Engineered');\n",
        "\n",
        "plt.show();"
      ]
    }
  ],
  "metadata": {
    "colab": {
      "provenance": []
    },
    "kernelspec": {
      "display_name": "base",
      "language": "python",
      "name": "python3"
    },
    "language_info": {
      "codemirror_mode": {
        "name": "ipython",
        "version": 3
      },
      "file_extension": ".py",
      "mimetype": "text/x-python",
      "name": "python",
      "nbconvert_exporter": "python",
      "pygments_lexer": "ipython3",
      "version": "3.11.5"
    }
  },
  "nbformat": 4,
  "nbformat_minor": 0
}
